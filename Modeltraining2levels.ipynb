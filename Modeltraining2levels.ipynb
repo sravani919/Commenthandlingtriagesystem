{
 "cells": [
  {
   "cell_type": "code",
   "execution_count": 1,
   "id": "fd61a75f-7d5f-4c12-9502-7778ecd9e85d",
   "metadata": {
    "tags": []
   },
   "outputs": [
    {
     "name": "stdout",
     "output_type": "stream",
     "text": [
      "Defaulting to user installation because normal site-packages is not writeable\n",
      "Requirement already satisfied: torch in ./.local/lib/python3.11/site-packages (2.3.1)\n",
      "Requirement already satisfied: torchvision in ./.local/lib/python3.11/site-packages (0.18.1)\n",
      "Requirement already satisfied: torchaudio in ./.local/lib/python3.11/site-packages (2.3.1)\n",
      "Requirement already satisfied: filelock in /software/slurm/spackages/linux-rocky8-x86_64/gcc-12.2.0/anaconda3-2023.09-0-3mhml42fa64byxqyd5fig5tbih625dp2/lib/python3.11/site-packages (from torch) (3.9.0)\n",
      "Requirement already satisfied: typing-extensions>=4.8.0 in ./.local/lib/python3.11/site-packages (from torch) (4.12.2)\n",
      "Requirement already satisfied: sympy in /software/slurm/spackages/linux-rocky8-x86_64/gcc-12.2.0/anaconda3-2023.09-0-3mhml42fa64byxqyd5fig5tbih625dp2/lib/python3.11/site-packages (from torch) (1.11.1)\n",
      "Requirement already satisfied: networkx in /software/slurm/spackages/linux-rocky8-x86_64/gcc-12.2.0/anaconda3-2023.09-0-3mhml42fa64byxqyd5fig5tbih625dp2/lib/python3.11/site-packages (from torch) (3.1)\n",
      "Requirement already satisfied: jinja2 in /software/slurm/spackages/linux-rocky8-x86_64/gcc-12.2.0/anaconda3-2023.09-0-3mhml42fa64byxqyd5fig5tbih625dp2/lib/python3.11/site-packages (from torch) (3.1.2)\n",
      "Requirement already satisfied: fsspec in ./.local/lib/python3.11/site-packages (from torch) (2024.6.0)\n",
      "Requirement already satisfied: nvidia-cuda-nvrtc-cu12==12.1.105 in ./.local/lib/python3.11/site-packages (from torch) (12.1.105)\n",
      "Requirement already satisfied: nvidia-cuda-runtime-cu12==12.1.105 in ./.local/lib/python3.11/site-packages (from torch) (12.1.105)\n",
      "Requirement already satisfied: nvidia-cuda-cupti-cu12==12.1.105 in ./.local/lib/python3.11/site-packages (from torch) (12.1.105)\n",
      "Requirement already satisfied: nvidia-cudnn-cu12==8.9.2.26 in ./.local/lib/python3.11/site-packages (from torch) (8.9.2.26)\n",
      "Requirement already satisfied: nvidia-cublas-cu12==12.1.3.1 in ./.local/lib/python3.11/site-packages (from torch) (12.1.3.1)\n",
      "Requirement already satisfied: nvidia-cufft-cu12==11.0.2.54 in ./.local/lib/python3.11/site-packages (from torch) (11.0.2.54)\n",
      "Requirement already satisfied: nvidia-curand-cu12==10.3.2.106 in ./.local/lib/python3.11/site-packages (from torch) (10.3.2.106)\n",
      "Requirement already satisfied: nvidia-cusolver-cu12==11.4.5.107 in ./.local/lib/python3.11/site-packages (from torch) (11.4.5.107)\n",
      "Requirement already satisfied: nvidia-cusparse-cu12==12.1.0.106 in ./.local/lib/python3.11/site-packages (from torch) (12.1.0.106)\n",
      "Requirement already satisfied: nvidia-nccl-cu12==2.20.5 in ./.local/lib/python3.11/site-packages (from torch) (2.20.5)\n",
      "Requirement already satisfied: nvidia-nvtx-cu12==12.1.105 in ./.local/lib/python3.11/site-packages (from torch) (12.1.105)\n",
      "Requirement already satisfied: triton==2.3.1 in ./.local/lib/python3.11/site-packages (from torch) (2.3.1)\n",
      "Requirement already satisfied: nvidia-nvjitlink-cu12 in ./.local/lib/python3.11/site-packages (from nvidia-cusolver-cu12==11.4.5.107->torch) (12.5.40)\n",
      "Requirement already satisfied: numpy in /software/slurm/spackages/linux-rocky8-x86_64/gcc-12.2.0/anaconda3-2023.09-0-3mhml42fa64byxqyd5fig5tbih625dp2/lib/python3.11/site-packages (from torchvision) (1.24.3)\n",
      "Requirement already satisfied: pillow!=8.3.*,>=5.3.0 in /software/slurm/spackages/linux-rocky8-x86_64/gcc-12.2.0/anaconda3-2023.09-0-3mhml42fa64byxqyd5fig5tbih625dp2/lib/python3.11/site-packages (from torchvision) (9.4.0)\n",
      "Requirement already satisfied: MarkupSafe>=2.0 in /software/slurm/spackages/linux-rocky8-x86_64/gcc-12.2.0/anaconda3-2023.09-0-3mhml42fa64byxqyd5fig5tbih625dp2/lib/python3.11/site-packages (from jinja2->torch) (2.1.1)\n",
      "Requirement already satisfied: mpmath>=0.19 in /software/slurm/spackages/linux-rocky8-x86_64/gcc-12.2.0/anaconda3-2023.09-0-3mhml42fa64byxqyd5fig5tbih625dp2/lib/python3.11/site-packages (from sympy->torch) (1.3.0)\n",
      "Defaulting to user installation because normal site-packages is not writeable\n",
      "Requirement already satisfied: accelerate in ./.local/lib/python3.11/site-packages (0.31.0)\n",
      "Requirement already satisfied: numpy>=1.17 in /software/slurm/spackages/linux-rocky8-x86_64/gcc-12.2.0/anaconda3-2023.09-0-3mhml42fa64byxqyd5fig5tbih625dp2/lib/python3.11/site-packages (from accelerate) (1.24.3)\n",
      "Requirement already satisfied: packaging>=20.0 in /software/slurm/spackages/linux-rocky8-x86_64/gcc-12.2.0/anaconda3-2023.09-0-3mhml42fa64byxqyd5fig5tbih625dp2/lib/python3.11/site-packages (from accelerate) (23.1)\n",
      "Requirement already satisfied: psutil in /software/slurm/spackages/linux-rocky8-x86_64/gcc-12.2.0/anaconda3-2023.09-0-3mhml42fa64byxqyd5fig5tbih625dp2/lib/python3.11/site-packages (from accelerate) (5.9.0)\n",
      "Requirement already satisfied: pyyaml in /software/slurm/spackages/linux-rocky8-x86_64/gcc-12.2.0/anaconda3-2023.09-0-3mhml42fa64byxqyd5fig5tbih625dp2/lib/python3.11/site-packages (from accelerate) (6.0)\n",
      "Requirement already satisfied: torch>=1.10.0 in ./.local/lib/python3.11/site-packages (from accelerate) (2.3.1)\n",
      "Requirement already satisfied: huggingface-hub in ./.local/lib/python3.11/site-packages (from accelerate) (0.23.3)\n",
      "Requirement already satisfied: safetensors>=0.3.1 in ./.local/lib/python3.11/site-packages (from accelerate) (0.4.3)\n",
      "Requirement already satisfied: filelock in /software/slurm/spackages/linux-rocky8-x86_64/gcc-12.2.0/anaconda3-2023.09-0-3mhml42fa64byxqyd5fig5tbih625dp2/lib/python3.11/site-packages (from torch>=1.10.0->accelerate) (3.9.0)\n",
      "Requirement already satisfied: typing-extensions>=4.8.0 in ./.local/lib/python3.11/site-packages (from torch>=1.10.0->accelerate) (4.12.2)\n",
      "Requirement already satisfied: sympy in /software/slurm/spackages/linux-rocky8-x86_64/gcc-12.2.0/anaconda3-2023.09-0-3mhml42fa64byxqyd5fig5tbih625dp2/lib/python3.11/site-packages (from torch>=1.10.0->accelerate) (1.11.1)\n",
      "Requirement already satisfied: networkx in /software/slurm/spackages/linux-rocky8-x86_64/gcc-12.2.0/anaconda3-2023.09-0-3mhml42fa64byxqyd5fig5tbih625dp2/lib/python3.11/site-packages (from torch>=1.10.0->accelerate) (3.1)\n",
      "Requirement already satisfied: jinja2 in /software/slurm/spackages/linux-rocky8-x86_64/gcc-12.2.0/anaconda3-2023.09-0-3mhml42fa64byxqyd5fig5tbih625dp2/lib/python3.11/site-packages (from torch>=1.10.0->accelerate) (3.1.2)\n",
      "Requirement already satisfied: fsspec in ./.local/lib/python3.11/site-packages (from torch>=1.10.0->accelerate) (2024.6.0)\n",
      "Requirement already satisfied: nvidia-cuda-nvrtc-cu12==12.1.105 in ./.local/lib/python3.11/site-packages (from torch>=1.10.0->accelerate) (12.1.105)\n",
      "Requirement already satisfied: nvidia-cuda-runtime-cu12==12.1.105 in ./.local/lib/python3.11/site-packages (from torch>=1.10.0->accelerate) (12.1.105)\n",
      "Requirement already satisfied: nvidia-cuda-cupti-cu12==12.1.105 in ./.local/lib/python3.11/site-packages (from torch>=1.10.0->accelerate) (12.1.105)\n",
      "Requirement already satisfied: nvidia-cudnn-cu12==8.9.2.26 in ./.local/lib/python3.11/site-packages (from torch>=1.10.0->accelerate) (8.9.2.26)\n",
      "Requirement already satisfied: nvidia-cublas-cu12==12.1.3.1 in ./.local/lib/python3.11/site-packages (from torch>=1.10.0->accelerate) (12.1.3.1)\n",
      "Requirement already satisfied: nvidia-cufft-cu12==11.0.2.54 in ./.local/lib/python3.11/site-packages (from torch>=1.10.0->accelerate) (11.0.2.54)\n",
      "Requirement already satisfied: nvidia-curand-cu12==10.3.2.106 in ./.local/lib/python3.11/site-packages (from torch>=1.10.0->accelerate) (10.3.2.106)\n",
      "Requirement already satisfied: nvidia-cusolver-cu12==11.4.5.107 in ./.local/lib/python3.11/site-packages (from torch>=1.10.0->accelerate) (11.4.5.107)\n",
      "Requirement already satisfied: nvidia-cusparse-cu12==12.1.0.106 in ./.local/lib/python3.11/site-packages (from torch>=1.10.0->accelerate) (12.1.0.106)\n",
      "Requirement already satisfied: nvidia-nccl-cu12==2.20.5 in ./.local/lib/python3.11/site-packages (from torch>=1.10.0->accelerate) (2.20.5)\n",
      "Requirement already satisfied: nvidia-nvtx-cu12==12.1.105 in ./.local/lib/python3.11/site-packages (from torch>=1.10.0->accelerate) (12.1.105)\n",
      "Requirement already satisfied: triton==2.3.1 in ./.local/lib/python3.11/site-packages (from torch>=1.10.0->accelerate) (2.3.1)\n",
      "Requirement already satisfied: nvidia-nvjitlink-cu12 in ./.local/lib/python3.11/site-packages (from nvidia-cusolver-cu12==11.4.5.107->torch>=1.10.0->accelerate) (12.5.40)\n",
      "Requirement already satisfied: requests in /software/slurm/spackages/linux-rocky8-x86_64/gcc-12.2.0/anaconda3-2023.09-0-3mhml42fa64byxqyd5fig5tbih625dp2/lib/python3.11/site-packages (from huggingface-hub->accelerate) (2.31.0)\n",
      "Requirement already satisfied: tqdm>=4.42.1 in /software/slurm/spackages/linux-rocky8-x86_64/gcc-12.2.0/anaconda3-2023.09-0-3mhml42fa64byxqyd5fig5tbih625dp2/lib/python3.11/site-packages (from huggingface-hub->accelerate) (4.65.0)\n",
      "Requirement already satisfied: MarkupSafe>=2.0 in /software/slurm/spackages/linux-rocky8-x86_64/gcc-12.2.0/anaconda3-2023.09-0-3mhml42fa64byxqyd5fig5tbih625dp2/lib/python3.11/site-packages (from jinja2->torch>=1.10.0->accelerate) (2.1.1)\n",
      "Requirement already satisfied: charset-normalizer<4,>=2 in /software/slurm/spackages/linux-rocky8-x86_64/gcc-12.2.0/anaconda3-2023.09-0-3mhml42fa64byxqyd5fig5tbih625dp2/lib/python3.11/site-packages (from requests->huggingface-hub->accelerate) (2.0.4)\n",
      "Requirement already satisfied: idna<4,>=2.5 in /software/slurm/spackages/linux-rocky8-x86_64/gcc-12.2.0/anaconda3-2023.09-0-3mhml42fa64byxqyd5fig5tbih625dp2/lib/python3.11/site-packages (from requests->huggingface-hub->accelerate) (3.4)\n",
      "Requirement already satisfied: urllib3<3,>=1.21.1 in /software/slurm/spackages/linux-rocky8-x86_64/gcc-12.2.0/anaconda3-2023.09-0-3mhml42fa64byxqyd5fig5tbih625dp2/lib/python3.11/site-packages (from requests->huggingface-hub->accelerate) (1.26.16)\n",
      "Requirement already satisfied: certifi>=2017.4.17 in /software/slurm/spackages/linux-rocky8-x86_64/gcc-12.2.0/anaconda3-2023.09-0-3mhml42fa64byxqyd5fig5tbih625dp2/lib/python3.11/site-packages (from requests->huggingface-hub->accelerate) (2023.7.22)\n",
      "Requirement already satisfied: mpmath>=0.19 in /software/slurm/spackages/linux-rocky8-x86_64/gcc-12.2.0/anaconda3-2023.09-0-3mhml42fa64byxqyd5fig5tbih625dp2/lib/python3.11/site-packages (from sympy->torch>=1.10.0->accelerate) (1.3.0)\n",
      "Defaulting to user installation because normal site-packages is not writeable\n",
      "Requirement already satisfied: accelerate in ./.local/lib/python3.11/site-packages (0.31.0)\n",
      "Requirement already satisfied: numpy>=1.17 in /software/slurm/spackages/linux-rocky8-x86_64/gcc-12.2.0/anaconda3-2023.09-0-3mhml42fa64byxqyd5fig5tbih625dp2/lib/python3.11/site-packages (from accelerate) (1.24.3)\n",
      "Requirement already satisfied: packaging>=20.0 in /software/slurm/spackages/linux-rocky8-x86_64/gcc-12.2.0/anaconda3-2023.09-0-3mhml42fa64byxqyd5fig5tbih625dp2/lib/python3.11/site-packages (from accelerate) (23.1)\n",
      "Requirement already satisfied: psutil in /software/slurm/spackages/linux-rocky8-x86_64/gcc-12.2.0/anaconda3-2023.09-0-3mhml42fa64byxqyd5fig5tbih625dp2/lib/python3.11/site-packages (from accelerate) (5.9.0)\n",
      "Requirement already satisfied: pyyaml in /software/slurm/spackages/linux-rocky8-x86_64/gcc-12.2.0/anaconda3-2023.09-0-3mhml42fa64byxqyd5fig5tbih625dp2/lib/python3.11/site-packages (from accelerate) (6.0)\n",
      "Requirement already satisfied: torch>=1.10.0 in ./.local/lib/python3.11/site-packages (from accelerate) (2.3.1)\n",
      "Requirement already satisfied: huggingface-hub in ./.local/lib/python3.11/site-packages (from accelerate) (0.23.3)\n",
      "Requirement already satisfied: safetensors>=0.3.1 in ./.local/lib/python3.11/site-packages (from accelerate) (0.4.3)\n",
      "Requirement already satisfied: filelock in /software/slurm/spackages/linux-rocky8-x86_64/gcc-12.2.0/anaconda3-2023.09-0-3mhml42fa64byxqyd5fig5tbih625dp2/lib/python3.11/site-packages (from torch>=1.10.0->accelerate) (3.9.0)\n",
      "Requirement already satisfied: typing-extensions>=4.8.0 in ./.local/lib/python3.11/site-packages (from torch>=1.10.0->accelerate) (4.12.2)\n",
      "Requirement already satisfied: sympy in /software/slurm/spackages/linux-rocky8-x86_64/gcc-12.2.0/anaconda3-2023.09-0-3mhml42fa64byxqyd5fig5tbih625dp2/lib/python3.11/site-packages (from torch>=1.10.0->accelerate) (1.11.1)\n",
      "Requirement already satisfied: networkx in /software/slurm/spackages/linux-rocky8-x86_64/gcc-12.2.0/anaconda3-2023.09-0-3mhml42fa64byxqyd5fig5tbih625dp2/lib/python3.11/site-packages (from torch>=1.10.0->accelerate) (3.1)\n",
      "Requirement already satisfied: jinja2 in /software/slurm/spackages/linux-rocky8-x86_64/gcc-12.2.0/anaconda3-2023.09-0-3mhml42fa64byxqyd5fig5tbih625dp2/lib/python3.11/site-packages (from torch>=1.10.0->accelerate) (3.1.2)\n",
      "Requirement already satisfied: fsspec in ./.local/lib/python3.11/site-packages (from torch>=1.10.0->accelerate) (2024.6.0)\n",
      "Requirement already satisfied: nvidia-cuda-nvrtc-cu12==12.1.105 in ./.local/lib/python3.11/site-packages (from torch>=1.10.0->accelerate) (12.1.105)\n",
      "Requirement already satisfied: nvidia-cuda-runtime-cu12==12.1.105 in ./.local/lib/python3.11/site-packages (from torch>=1.10.0->accelerate) (12.1.105)\n",
      "Requirement already satisfied: nvidia-cuda-cupti-cu12==12.1.105 in ./.local/lib/python3.11/site-packages (from torch>=1.10.0->accelerate) (12.1.105)\n",
      "Requirement already satisfied: nvidia-cudnn-cu12==8.9.2.26 in ./.local/lib/python3.11/site-packages (from torch>=1.10.0->accelerate) (8.9.2.26)\n",
      "Requirement already satisfied: nvidia-cublas-cu12==12.1.3.1 in ./.local/lib/python3.11/site-packages (from torch>=1.10.0->accelerate) (12.1.3.1)\n",
      "Requirement already satisfied: nvidia-cufft-cu12==11.0.2.54 in ./.local/lib/python3.11/site-packages (from torch>=1.10.0->accelerate) (11.0.2.54)\n",
      "Requirement already satisfied: nvidia-curand-cu12==10.3.2.106 in ./.local/lib/python3.11/site-packages (from torch>=1.10.0->accelerate) (10.3.2.106)\n",
      "Requirement already satisfied: nvidia-cusolver-cu12==11.4.5.107 in ./.local/lib/python3.11/site-packages (from torch>=1.10.0->accelerate) (11.4.5.107)\n",
      "Requirement already satisfied: nvidia-cusparse-cu12==12.1.0.106 in ./.local/lib/python3.11/site-packages (from torch>=1.10.0->accelerate) (12.1.0.106)\n",
      "Requirement already satisfied: nvidia-nccl-cu12==2.20.5 in ./.local/lib/python3.11/site-packages (from torch>=1.10.0->accelerate) (2.20.5)\n",
      "Requirement already satisfied: nvidia-nvtx-cu12==12.1.105 in ./.local/lib/python3.11/site-packages (from torch>=1.10.0->accelerate) (12.1.105)\n",
      "Requirement already satisfied: triton==2.3.1 in ./.local/lib/python3.11/site-packages (from torch>=1.10.0->accelerate) (2.3.1)\n",
      "Requirement already satisfied: nvidia-nvjitlink-cu12 in ./.local/lib/python3.11/site-packages (from nvidia-cusolver-cu12==11.4.5.107->torch>=1.10.0->accelerate) (12.5.40)\n",
      "Requirement already satisfied: requests in /software/slurm/spackages/linux-rocky8-x86_64/gcc-12.2.0/anaconda3-2023.09-0-3mhml42fa64byxqyd5fig5tbih625dp2/lib/python3.11/site-packages (from huggingface-hub->accelerate) (2.31.0)\n",
      "Requirement already satisfied: tqdm>=4.42.1 in /software/slurm/spackages/linux-rocky8-x86_64/gcc-12.2.0/anaconda3-2023.09-0-3mhml42fa64byxqyd5fig5tbih625dp2/lib/python3.11/site-packages (from huggingface-hub->accelerate) (4.65.0)\n",
      "Requirement already satisfied: MarkupSafe>=2.0 in /software/slurm/spackages/linux-rocky8-x86_64/gcc-12.2.0/anaconda3-2023.09-0-3mhml42fa64byxqyd5fig5tbih625dp2/lib/python3.11/site-packages (from jinja2->torch>=1.10.0->accelerate) (2.1.1)\n",
      "Requirement already satisfied: charset-normalizer<4,>=2 in /software/slurm/spackages/linux-rocky8-x86_64/gcc-12.2.0/anaconda3-2023.09-0-3mhml42fa64byxqyd5fig5tbih625dp2/lib/python3.11/site-packages (from requests->huggingface-hub->accelerate) (2.0.4)\n",
      "Requirement already satisfied: idna<4,>=2.5 in /software/slurm/spackages/linux-rocky8-x86_64/gcc-12.2.0/anaconda3-2023.09-0-3mhml42fa64byxqyd5fig5tbih625dp2/lib/python3.11/site-packages (from requests->huggingface-hub->accelerate) (3.4)\n",
      "Requirement already satisfied: urllib3<3,>=1.21.1 in /software/slurm/spackages/linux-rocky8-x86_64/gcc-12.2.0/anaconda3-2023.09-0-3mhml42fa64byxqyd5fig5tbih625dp2/lib/python3.11/site-packages (from requests->huggingface-hub->accelerate) (1.26.16)\n",
      "Requirement already satisfied: certifi>=2017.4.17 in /software/slurm/spackages/linux-rocky8-x86_64/gcc-12.2.0/anaconda3-2023.09-0-3mhml42fa64byxqyd5fig5tbih625dp2/lib/python3.11/site-packages (from requests->huggingface-hub->accelerate) (2023.7.22)\n",
      "Requirement already satisfied: mpmath>=0.19 in /software/slurm/spackages/linux-rocky8-x86_64/gcc-12.2.0/anaconda3-2023.09-0-3mhml42fa64byxqyd5fig5tbih625dp2/lib/python3.11/site-packages (from sympy->torch>=1.10.0->accelerate) (1.3.0)\n",
      "Defaulting to user installation because normal site-packages is not writeable\n",
      "Requirement already satisfied: torch in ./.local/lib/python3.11/site-packages (2.3.1)\n",
      "Requirement already satisfied: torchvision in ./.local/lib/python3.11/site-packages (0.18.1)\n",
      "Requirement already satisfied: torchaudio in ./.local/lib/python3.11/site-packages (2.3.1)\n",
      "Requirement already satisfied: filelock in /software/slurm/spackages/linux-rocky8-x86_64/gcc-12.2.0/anaconda3-2023.09-0-3mhml42fa64byxqyd5fig5tbih625dp2/lib/python3.11/site-packages (from torch) (3.9.0)\n",
      "Requirement already satisfied: typing-extensions>=4.8.0 in ./.local/lib/python3.11/site-packages (from torch) (4.12.2)\n",
      "Requirement already satisfied: sympy in /software/slurm/spackages/linux-rocky8-x86_64/gcc-12.2.0/anaconda3-2023.09-0-3mhml42fa64byxqyd5fig5tbih625dp2/lib/python3.11/site-packages (from torch) (1.11.1)\n",
      "Requirement already satisfied: networkx in /software/slurm/spackages/linux-rocky8-x86_64/gcc-12.2.0/anaconda3-2023.09-0-3mhml42fa64byxqyd5fig5tbih625dp2/lib/python3.11/site-packages (from torch) (3.1)\n",
      "Requirement already satisfied: jinja2 in /software/slurm/spackages/linux-rocky8-x86_64/gcc-12.2.0/anaconda3-2023.09-0-3mhml42fa64byxqyd5fig5tbih625dp2/lib/python3.11/site-packages (from torch) (3.1.2)\n",
      "Requirement already satisfied: fsspec in ./.local/lib/python3.11/site-packages (from torch) (2024.6.0)\n",
      "Requirement already satisfied: nvidia-cuda-nvrtc-cu12==12.1.105 in ./.local/lib/python3.11/site-packages (from torch) (12.1.105)\n",
      "Requirement already satisfied: nvidia-cuda-runtime-cu12==12.1.105 in ./.local/lib/python3.11/site-packages (from torch) (12.1.105)\n",
      "Requirement already satisfied: nvidia-cuda-cupti-cu12==12.1.105 in ./.local/lib/python3.11/site-packages (from torch) (12.1.105)\n",
      "Requirement already satisfied: nvidia-cudnn-cu12==8.9.2.26 in ./.local/lib/python3.11/site-packages (from torch) (8.9.2.26)\n",
      "Requirement already satisfied: nvidia-cublas-cu12==12.1.3.1 in ./.local/lib/python3.11/site-packages (from torch) (12.1.3.1)\n",
      "Requirement already satisfied: nvidia-cufft-cu12==11.0.2.54 in ./.local/lib/python3.11/site-packages (from torch) (11.0.2.54)\n",
      "Requirement already satisfied: nvidia-curand-cu12==10.3.2.106 in ./.local/lib/python3.11/site-packages (from torch) (10.3.2.106)\n",
      "Requirement already satisfied: nvidia-cusolver-cu12==11.4.5.107 in ./.local/lib/python3.11/site-packages (from torch) (11.4.5.107)\n",
      "Requirement already satisfied: nvidia-cusparse-cu12==12.1.0.106 in ./.local/lib/python3.11/site-packages (from torch) (12.1.0.106)\n",
      "Requirement already satisfied: nvidia-nccl-cu12==2.20.5 in ./.local/lib/python3.11/site-packages (from torch) (2.20.5)\n",
      "Requirement already satisfied: nvidia-nvtx-cu12==12.1.105 in ./.local/lib/python3.11/site-packages (from torch) (12.1.105)\n",
      "Requirement already satisfied: triton==2.3.1 in ./.local/lib/python3.11/site-packages (from torch) (2.3.1)\n",
      "Requirement already satisfied: nvidia-nvjitlink-cu12 in ./.local/lib/python3.11/site-packages (from nvidia-cusolver-cu12==11.4.5.107->torch) (12.5.40)\n",
      "Requirement already satisfied: numpy in /software/slurm/spackages/linux-rocky8-x86_64/gcc-12.2.0/anaconda3-2023.09-0-3mhml42fa64byxqyd5fig5tbih625dp2/lib/python3.11/site-packages (from torchvision) (1.24.3)\n",
      "Requirement already satisfied: pillow!=8.3.*,>=5.3.0 in /software/slurm/spackages/linux-rocky8-x86_64/gcc-12.2.0/anaconda3-2023.09-0-3mhml42fa64byxqyd5fig5tbih625dp2/lib/python3.11/site-packages (from torchvision) (9.4.0)\n",
      "Requirement already satisfied: MarkupSafe>=2.0 in /software/slurm/spackages/linux-rocky8-x86_64/gcc-12.2.0/anaconda3-2023.09-0-3mhml42fa64byxqyd5fig5tbih625dp2/lib/python3.11/site-packages (from jinja2->torch) (2.1.1)\n",
      "Requirement already satisfied: mpmath>=0.19 in /software/slurm/spackages/linux-rocky8-x86_64/gcc-12.2.0/anaconda3-2023.09-0-3mhml42fa64byxqyd5fig5tbih625dp2/lib/python3.11/site-packages (from sympy->torch) (1.3.0)\n",
      "Defaulting to user installation because normal site-packages is not writeable\n",
      "Requirement already satisfied: transformers in ./.local/lib/python3.11/site-packages (4.41.2)\n",
      "Requirement already satisfied: filelock in /software/slurm/spackages/linux-rocky8-x86_64/gcc-12.2.0/anaconda3-2023.09-0-3mhml42fa64byxqyd5fig5tbih625dp2/lib/python3.11/site-packages (from transformers) (3.9.0)\n",
      "Requirement already satisfied: huggingface-hub<1.0,>=0.23.0 in ./.local/lib/python3.11/site-packages (from transformers) (0.23.3)\n",
      "Requirement already satisfied: numpy>=1.17 in /software/slurm/spackages/linux-rocky8-x86_64/gcc-12.2.0/anaconda3-2023.09-0-3mhml42fa64byxqyd5fig5tbih625dp2/lib/python3.11/site-packages (from transformers) (1.24.3)\n",
      "Requirement already satisfied: packaging>=20.0 in /software/slurm/spackages/linux-rocky8-x86_64/gcc-12.2.0/anaconda3-2023.09-0-3mhml42fa64byxqyd5fig5tbih625dp2/lib/python3.11/site-packages (from transformers) (23.1)\n",
      "Requirement already satisfied: pyyaml>=5.1 in /software/slurm/spackages/linux-rocky8-x86_64/gcc-12.2.0/anaconda3-2023.09-0-3mhml42fa64byxqyd5fig5tbih625dp2/lib/python3.11/site-packages (from transformers) (6.0)\n",
      "Requirement already satisfied: regex!=2019.12.17 in /software/slurm/spackages/linux-rocky8-x86_64/gcc-12.2.0/anaconda3-2023.09-0-3mhml42fa64byxqyd5fig5tbih625dp2/lib/python3.11/site-packages (from transformers) (2022.7.9)\n",
      "Requirement already satisfied: requests in /software/slurm/spackages/linux-rocky8-x86_64/gcc-12.2.0/anaconda3-2023.09-0-3mhml42fa64byxqyd5fig5tbih625dp2/lib/python3.11/site-packages (from transformers) (2.31.0)\n",
      "Requirement already satisfied: tokenizers<0.20,>=0.19 in ./.local/lib/python3.11/site-packages (from transformers) (0.19.1)\n",
      "Requirement already satisfied: safetensors>=0.4.1 in ./.local/lib/python3.11/site-packages (from transformers) (0.4.3)\n",
      "Requirement already satisfied: tqdm>=4.27 in /software/slurm/spackages/linux-rocky8-x86_64/gcc-12.2.0/anaconda3-2023.09-0-3mhml42fa64byxqyd5fig5tbih625dp2/lib/python3.11/site-packages (from transformers) (4.65.0)\n",
      "Requirement already satisfied: fsspec>=2023.5.0 in ./.local/lib/python3.11/site-packages (from huggingface-hub<1.0,>=0.23.0->transformers) (2024.6.0)\n",
      "Requirement already satisfied: typing-extensions>=3.7.4.3 in ./.local/lib/python3.11/site-packages (from huggingface-hub<1.0,>=0.23.0->transformers) (4.12.2)\n",
      "Requirement already satisfied: charset-normalizer<4,>=2 in /software/slurm/spackages/linux-rocky8-x86_64/gcc-12.2.0/anaconda3-2023.09-0-3mhml42fa64byxqyd5fig5tbih625dp2/lib/python3.11/site-packages (from requests->transformers) (2.0.4)\n",
      "Requirement already satisfied: idna<4,>=2.5 in /software/slurm/spackages/linux-rocky8-x86_64/gcc-12.2.0/anaconda3-2023.09-0-3mhml42fa64byxqyd5fig5tbih625dp2/lib/python3.11/site-packages (from requests->transformers) (3.4)\n",
      "Requirement already satisfied: urllib3<3,>=1.21.1 in /software/slurm/spackages/linux-rocky8-x86_64/gcc-12.2.0/anaconda3-2023.09-0-3mhml42fa64byxqyd5fig5tbih625dp2/lib/python3.11/site-packages (from requests->transformers) (1.26.16)\n",
      "Requirement already satisfied: certifi>=2017.4.17 in /software/slurm/spackages/linux-rocky8-x86_64/gcc-12.2.0/anaconda3-2023.09-0-3mhml42fa64byxqyd5fig5tbih625dp2/lib/python3.11/site-packages (from requests->transformers) (2023.7.22)\n"
     ]
    }
   ],
   "source": [
    "!pip install torch torchvision torchaudio --upgrade\n",
    "!pip install accelerate\n",
    "!pip install accelerate --upgrade\n",
    "!pip install torch torchvision torchaudio --upgrade\n",
    "\n",
    "\n",
    "!pip install transformers --upgrade\n",
    "from transformers import DistilBertTokenizer, DistilBertForSequenceClassification, Trainer, TrainingArguments\n",
    "from sklearn.model_selection import train_test_split\n",
    "import numpy as np\n",
    "from sklearn.metrics import accuracy_score, precision_recall_fscore_support"
   ]
  },
  {
   "cell_type": "code",
   "execution_count": 2,
   "id": "1304e1f0-4eb2-40ba-b670-2001e1eb1674",
   "metadata": {
    "tags": []
   },
   "outputs": [],
   "source": [
    "import pandas as pd\n",
    "\n",
    "df = pd.read_csv('labeled_comments_cleaned.csv')"
   ]
  },
  {
   "cell_type": "code",
   "execution_count": 3,
   "id": "aed4aeca-76b6-4ae4-ade0-91324e0c3c99",
   "metadata": {
    "tags": []
   },
   "outputs": [],
   "source": [
    "import re\n",
    "\n",
    "# Function to clean text data\n",
    "def clean_text(text):\n",
    "    # Remove symbols and numbers\n",
    "    text = re.sub(r'[^a-zA-Z\\s]', '', text, re.I|re.A)\n",
    "    # Convert to lowercase\n",
    "    text = text.lower()\n",
    "    # Remove extra spaces\n",
    "    text = text.strip()\n",
    "    return text\n",
    "\n",
    "# Clean the comment_full_text column\n",
    "df['comment_full_text'] = df['comment_full_text'].apply(clean_text)"
   ]
  },
  {
   "cell_type": "code",
   "execution_count": 4,
   "id": "6583c109-9a18-4325-94bc-b0783d79c4ee",
   "metadata": {
    "tags": []
   },
   "outputs": [
    {
     "data": {
      "text/html": [
       "<div>\n",
       "<style scoped>\n",
       "    .dataframe tbody tr th:only-of-type {\n",
       "        vertical-align: middle;\n",
       "    }\n",
       "\n",
       "    .dataframe tbody tr th {\n",
       "        vertical-align: top;\n",
       "    }\n",
       "\n",
       "    .dataframe thead th {\n",
       "        text-align: right;\n",
       "    }\n",
       "</style>\n",
       "<table border=\"1\" class=\"dataframe\">\n",
       "  <thead>\n",
       "    <tr style=\"text-align: right;\">\n",
       "      <th></th>\n",
       "      <th>file_id</th>\n",
       "      <th>comment_id</th>\n",
       "      <th>comment_date</th>\n",
       "      <th>anonymized_nickname</th>\n",
       "      <th>document_paragraph_text</th>\n",
       "      <th>document_selected_text</th>\n",
       "      <th>document_selected_sentences</th>\n",
       "      <th>comment_full_text</th>\n",
       "      <th>comment_sentence_text</th>\n",
       "      <th>is_sentence</th>\n",
       "      <th>...</th>\n",
       "      <th>spelling_errors</th>\n",
       "      <th>tracked_changes</th>\n",
       "      <th>next_action</th>\n",
       "      <th>level_0</th>\n",
       "      <th>level_1</th>\n",
       "      <th>level_2</th>\n",
       "      <th>level_3</th>\n",
       "      <th>level_4</th>\n",
       "      <th>date_column</th>\n",
       "      <th>time_column</th>\n",
       "    </tr>\n",
       "  </thead>\n",
       "  <tbody>\n",
       "    <tr>\n",
       "      <th>0</th>\n",
       "      <td>ed88fa24-1a89-44fb-9a66-c7f554d87f5d</td>\n",
       "      <td>ffc97358-69e6-48fb-aaf0-6a844e26f653</td>\n",
       "      <td>2013-04-09 09:30:00+00:00 00:00:00+00:00</td>\n",
       "      <td>Editor</td>\n",
       "      <td>The experiments were carried out in a fluidize...</td>\n",
       "      <td>NaN</td>\n",
       "      <td>1.0</td>\n",
       "      <td>ok</td>\n",
       "      <td>Ok?</td>\n",
       "      <td>0</td>\n",
       "      <td>...</td>\n",
       "      <td>0.0</td>\n",
       "      <td>2.0</td>\n",
       "      <td>KEEP</td>\n",
       "      <td>INFORMATION EXCHANGE</td>\n",
       "      <td>REQUESTED</td>\n",
       "      <td>REQUESTING_CONFIRMATION</td>\n",
       "      <td>POTENTIAL_CHANGE</td>\n",
       "      <td>NaN</td>\n",
       "      <td>2013-04-09</td>\n",
       "      <td>09:30:00</td>\n",
       "    </tr>\n",
       "    <tr>\n",
       "      <th>1</th>\n",
       "      <td>0c9c7a44-8bae-4bcf-a271-1b54ab0ef41e</td>\n",
       "      <td>ffa706dc-4877-492d-ac74-598d5f4d07c5</td>\n",
       "      <td>2011-12-08 15:51:00+00:00 00:00:00+00:00</td>\n",
       "      <td>Alicia R. Dalton-Tingler</td>\n",
       "      <td>In addition to the work mentioned above, the E...</td>\n",
       "      <td>NaN</td>\n",
       "      <td>1.0</td>\n",
       "      <td>this has been discussed in the executive summa...</td>\n",
       "      <td>This has been discussed in the Executive Summa...</td>\n",
       "      <td>1</td>\n",
       "      <td>...</td>\n",
       "      <td>0.0</td>\n",
       "      <td>1.0</td>\n",
       "      <td>KEEP</td>\n",
       "      <td>MODIFICATION</td>\n",
       "      <td>EXECUTION</td>\n",
       "      <td>PROMISE</td>\n",
       "      <td>NaN</td>\n",
       "      <td>NaN</td>\n",
       "      <td>2011-12-08</td>\n",
       "      <td>15:51:00</td>\n",
       "    </tr>\n",
       "    <tr>\n",
       "      <th>2</th>\n",
       "      <td>0c9c7a44-8bae-4bcf-a271-1b54ab0ef41e</td>\n",
       "      <td>ffa706dc-4877-492d-ac74-598d5f4d07c5</td>\n",
       "      <td>2011-12-08 15:51:00+00:00 00:00:00+00:00</td>\n",
       "      <td>Alicia R. Dalton-Tingler</td>\n",
       "      <td>In addition to the work mentioned above, the E...</td>\n",
       "      <td>NaN</td>\n",
       "      <td>1.0</td>\n",
       "      <td>this has been discussed in the executive summa...</td>\n",
       "      <td>It is, however, very out of place sitting here.</td>\n",
       "      <td>1</td>\n",
       "      <td>...</td>\n",
       "      <td>0.0</td>\n",
       "      <td>1.0</td>\n",
       "      <td>KEEP</td>\n",
       "      <td>SOCIAL COMMUNICATION</td>\n",
       "      <td>DISCUSSION</td>\n",
       "      <td>CONTENT</td>\n",
       "      <td>NOT_POTENTIAL_CHANGE</td>\n",
       "      <td>NaN</td>\n",
       "      <td>2011-12-08</td>\n",
       "      <td>15:51:00</td>\n",
       "    </tr>\n",
       "    <tr>\n",
       "      <th>3</th>\n",
       "      <td>0c9c7a44-8bae-4bcf-a271-1b54ab0ef41e</td>\n",
       "      <td>ffa706dc-4877-492d-ac74-598d5f4d07c5</td>\n",
       "      <td>2011-12-08 15:51:00+00:00 00:00:00+00:00</td>\n",
       "      <td>Alicia R. Dalton-Tingler</td>\n",
       "      <td>In addition to the work mentioned above, the E...</td>\n",
       "      <td>NaN</td>\n",
       "      <td>1.0</td>\n",
       "      <td>this has been discussed in the executive summa...</td>\n",
       "      <td>This has been discussed in the Executive Summa...</td>\n",
       "      <td>0</td>\n",
       "      <td>...</td>\n",
       "      <td>0.0</td>\n",
       "      <td>1.0</td>\n",
       "      <td>KEEP</td>\n",
       "      <td>MODIFICATION</td>\n",
       "      <td>REQUESTED</td>\n",
       "      <td>CONTENT</td>\n",
       "      <td>EXPLICIT</td>\n",
       "      <td>NaN</td>\n",
       "      <td>2011-12-08</td>\n",
       "      <td>15:51:00</td>\n",
       "    </tr>\n",
       "    <tr>\n",
       "      <th>4</th>\n",
       "      <td>f5208894-9572-4cb8-b023-00b3c03cee89</td>\n",
       "      <td>ff533813-4050-424d-8e01-3c8dbb392f4d</td>\n",
       "      <td>2016-03-09 15:05:00+00:00 00:00:00+00:00</td>\n",
       "      <td>Alannah Kittle</td>\n",
       "      <td>NaN</td>\n",
       "      <td>NaN</td>\n",
       "      <td>1.0</td>\n",
       "      <td>coding\\n\\ncode qualitative data for wavguagea</td>\n",
       "      <td>CODING\\n\\nCode qualitative data for WAVGUAGE03A</td>\n",
       "      <td>0</td>\n",
       "      <td>...</td>\n",
       "      <td>0.0</td>\n",
       "      <td>0.0</td>\n",
       "      <td>KEEP</td>\n",
       "      <td>INFORMATION EXCHANGE</td>\n",
       "      <td>PROVIDED</td>\n",
       "      <td>REFERENCE</td>\n",
       "      <td>POTENTIAL_CHANGE</td>\n",
       "      <td>NaN</td>\n",
       "      <td>2016-03-09</td>\n",
       "      <td>15:05:00</td>\n",
       "    </tr>\n",
       "  </tbody>\n",
       "</table>\n",
       "<p>5 rows × 33 columns</p>\n",
       "</div>"
      ],
      "text/plain": [
       "                                file_id                            comment_id  \\\n",
       "0  ed88fa24-1a89-44fb-9a66-c7f554d87f5d  ffc97358-69e6-48fb-aaf0-6a844e26f653   \n",
       "1  0c9c7a44-8bae-4bcf-a271-1b54ab0ef41e  ffa706dc-4877-492d-ac74-598d5f4d07c5   \n",
       "2  0c9c7a44-8bae-4bcf-a271-1b54ab0ef41e  ffa706dc-4877-492d-ac74-598d5f4d07c5   \n",
       "3  0c9c7a44-8bae-4bcf-a271-1b54ab0ef41e  ffa706dc-4877-492d-ac74-598d5f4d07c5   \n",
       "4  f5208894-9572-4cb8-b023-00b3c03cee89  ff533813-4050-424d-8e01-3c8dbb392f4d   \n",
       "\n",
       "                               comment_date       anonymized_nickname  \\\n",
       "0  2013-04-09 09:30:00+00:00 00:00:00+00:00                    Editor   \n",
       "1  2011-12-08 15:51:00+00:00 00:00:00+00:00  Alicia R. Dalton-Tingler   \n",
       "2  2011-12-08 15:51:00+00:00 00:00:00+00:00  Alicia R. Dalton-Tingler   \n",
       "3  2011-12-08 15:51:00+00:00 00:00:00+00:00  Alicia R. Dalton-Tingler   \n",
       "4  2016-03-09 15:05:00+00:00 00:00:00+00:00            Alannah Kittle   \n",
       "\n",
       "                             document_paragraph_text document_selected_text  \\\n",
       "0  The experiments were carried out in a fluidize...                    NaN   \n",
       "1  In addition to the work mentioned above, the E...                    NaN   \n",
       "2  In addition to the work mentioned above, the E...                    NaN   \n",
       "3  In addition to the work mentioned above, the E...                    NaN   \n",
       "4                                                NaN                    NaN   \n",
       "\n",
       "   document_selected_sentences  \\\n",
       "0                          1.0   \n",
       "1                          1.0   \n",
       "2                          1.0   \n",
       "3                          1.0   \n",
       "4                          1.0   \n",
       "\n",
       "                                   comment_full_text  \\\n",
       "0                                                 ok   \n",
       "1  this has been discussed in the executive summa...   \n",
       "2  this has been discussed in the executive summa...   \n",
       "3  this has been discussed in the executive summa...   \n",
       "4      coding\\n\\ncode qualitative data for wavguagea   \n",
       "\n",
       "                               comment_sentence_text  is_sentence  ...  \\\n",
       "0                                                Ok?            0  ...   \n",
       "1  This has been discussed in the Executive Summa...            1  ...   \n",
       "2    It is, however, very out of place sitting here.            1  ...   \n",
       "3  This has been discussed in the Executive Summa...            0  ...   \n",
       "4    CODING\\n\\nCode qualitative data for WAVGUAGE03A            0  ...   \n",
       "\n",
       "   spelling_errors  tracked_changes  next_action               level_0  \\\n",
       "0              0.0              2.0         KEEP  INFORMATION EXCHANGE   \n",
       "1              0.0              1.0         KEEP          MODIFICATION   \n",
       "2              0.0              1.0         KEEP  SOCIAL COMMUNICATION   \n",
       "3              0.0              1.0         KEEP          MODIFICATION   \n",
       "4              0.0              0.0         KEEP  INFORMATION EXCHANGE   \n",
       "\n",
       "      level_1                  level_2               level_3  level_4  \\\n",
       "0   REQUESTED  REQUESTING_CONFIRMATION      POTENTIAL_CHANGE      NaN   \n",
       "1   EXECUTION                  PROMISE                   NaN      NaN   \n",
       "2  DISCUSSION                  CONTENT  NOT_POTENTIAL_CHANGE      NaN   \n",
       "3   REQUESTED                  CONTENT              EXPLICIT      NaN   \n",
       "4    PROVIDED                REFERENCE      POTENTIAL_CHANGE      NaN   \n",
       "\n",
       "   date_column time_column  \n",
       "0   2013-04-09    09:30:00  \n",
       "1   2011-12-08    15:51:00  \n",
       "2   2011-12-08    15:51:00  \n",
       "3   2011-12-08    15:51:00  \n",
       "4   2016-03-09    15:05:00  \n",
       "\n",
       "[5 rows x 33 columns]"
      ]
     },
     "execution_count": 4,
     "metadata": {},
     "output_type": "execute_result"
    }
   ],
   "source": [
    "df.head()"
   ]
  },
  {
   "cell_type": "code",
   "execution_count": 5,
   "id": "09bd20fc-6e23-4fad-b4a6-5184f0eb48d5",
   "metadata": {
    "tags": []
   },
   "outputs": [
    {
     "name": "stdout",
     "output_type": "stream",
     "text": [
      "<class 'pandas.core.frame.DataFrame'>\n",
      "RangeIndex: 4991 entries, 0 to 4990\n",
      "Data columns (total 33 columns):\n",
      " #   Column                       Non-Null Count  Dtype  \n",
      "---  ------                       --------------  -----  \n",
      " 0   file_id                      4991 non-null   object \n",
      " 1   comment_id                   4991 non-null   object \n",
      " 2   comment_date                 4991 non-null   object \n",
      " 3   anonymized_nickname          4976 non-null   object \n",
      " 4   document_paragraph_text      4502 non-null   object \n",
      " 5   document_selected_text       3990 non-null   object \n",
      " 6   document_selected_sentences  4991 non-null   float64\n",
      " 7   comment_full_text            4991 non-null   object \n",
      " 8   comment_sentence_text        4991 non-null   object \n",
      " 9   is_sentence                  4991 non-null   int64  \n",
      " 10  num_sentence                 4991 non-null   int64  \n",
      " 11  total_sentences              4991 non-null   int64  \n",
      " 12  grammar_checked              4991 non-null   int64  \n",
      " 13  grammatical_errors           4991 non-null   int64  \n",
      " 14  has_replies                  4991 non-null   int64  \n",
      " 15  is_reply                     4991 non-null   int64  \n",
      " 16  num_reply                    4991 non-null   int64  \n",
      " 17  num_replies                  4991 non-null   int64  \n",
      " 18  is_resolved                  4991 non-null   int64  \n",
      " 19  language_name                4951 non-null   object \n",
      " 20  num_hyperlinks               4991 non-null   int64  \n",
      " 21  num_images                   4991 non-null   int64  \n",
      " 22  spelling_checked             4991 non-null   float64\n",
      " 23  spelling_errors              4991 non-null   float64\n",
      " 24  tracked_changes              4991 non-null   float64\n",
      " 25  next_action                  4991 non-null   object \n",
      " 26  level_0                      4991 non-null   object \n",
      " 27  level_1                      4718 non-null   object \n",
      " 28  level_2                      4689 non-null   object \n",
      " 29  level_3                      4416 non-null   object \n",
      " 30  level_4                      1511 non-null   object \n",
      " 31  date_column                  4991 non-null   object \n",
      " 32  time_column                  4991 non-null   object \n",
      "dtypes: float64(4), int64(12), object(17)\n",
      "memory usage: 1.3+ MB\n"
     ]
    }
   ],
   "source": [
    "df.info()"
   ]
  },
  {
   "cell_type": "markdown",
   "id": "b8d753b2-3342-4c37-a260-b6afcd541ae0",
   "metadata": {},
   "source": [
    "XML_CNN (Level_0 and Level_1)"
   ]
  },
  {
   "cell_type": "code",
   "execution_count": 6,
   "id": "4376625d-1f22-474b-8d07-4871aeb47079",
   "metadata": {
    "tags": []
   },
   "outputs": [],
   "source": [
    "import pandas as pd\n",
    "from sklearn.model_selection import train_test_split\n",
    "from sklearn.preprocessing import MultiLabelBinarizer\n",
    "import torch\n",
    "from torch.utils.data import Dataset, DataLoader\n",
    "from transformers import BertTokenizer\n",
    "\n",
    "# Load dataset\n",
    "df_1 = pd.read_csv('labeled_comments_cleaned.csv')\n",
    "\n",
    "# Ensure all entries are strings and handle NaNs\n",
    "df_1['level_0'] = df_1['level_0'].astype(str)\n",
    "df_1['level_1'] = df_1['level_1'].astype(str)\n",
    "\n",
    "# Combine two label columns into a list of labels per row\n",
    "df_1['combined_labels'] = df_1[['level_0', 'level_1']].apply(lambda row: [x for x in row if x != 'nan'], axis=1)\n",
    "\n",
    "# Initialize MultiLabelBinarizer\n",
    "mlb = MultiLabelBinarizer()\n",
    "y = mlb.fit_transform(df_1['combined_labels'])\n",
    "\n",
    "# Selecting the feature variable\n",
    "X = df_1['comment_full_text']\n",
    "\n",
    "# Split the dataset into training and testing sets\n",
    "X_train, X_test, y_train, y_test = train_test_split(X, y, test_size=0.2, random_state=42)\n",
    "\n",
    "# Define the TextDataset class\n",
    "class TextDataset(Dataset):\n",
    "    def __init__(self, texts, labels, tokenizer, max_len=512):\n",
    "        self.texts = texts.reset_index(drop=True)\n",
    "        self.labels = labels\n",
    "        self.tokenizer = tokenizer\n",
    "        self.max_len = max_len\n",
    "\n",
    "    def __len__(self):\n",
    "        return len(self.texts)\n",
    "\n",
    "    def __getitem__(self, idx):\n",
    "        text = self.texts[idx]\n",
    "        label = self.labels[idx]\n",
    "        tokenized = self.tokenizer.encode_plus(\n",
    "            text,\n",
    "            add_special_tokens=True,\n",
    "            max_length=self.max_len,\n",
    "            padding='max_length',\n",
    "            truncation=True,\n",
    "            return_tensors='pt'\n",
    "        )\n",
    "        input_ids = tokenized['input_ids'].squeeze(0)\n",
    "        attention_mask = tokenized['attention_mask'].squeeze(0)\n",
    "        return {\n",
    "            'input_ids': input_ids,\n",
    "            'attention_mask': attention_mask,\n",
    "            'labels': torch.FloatTensor(label)\n",
    "        }\n",
    "\n",
    "# Initialize tokenizer\n",
    "tokenizer = BertTokenizer.from_pretrained('bert-base-uncased')\n",
    "\n",
    "# Create dataset and dataloader\n",
    "train_dataset = TextDataset(X_train, y_train, tokenizer)\n",
    "test_dataset = TextDataset(X_test, y_test, tokenizer)\n",
    "train_loader = DataLoader(train_dataset, batch_size=32, shuffle=True)\n",
    "test_loader = DataLoader(test_dataset, batch_size=32)\n"
   ]
  },
  {
   "cell_type": "code",
   "execution_count": 7,
   "id": "6c873ccf-de56-4666-a01a-7ea7ab9552de",
   "metadata": {
    "tags": []
   },
   "outputs": [],
   "source": [
    "import torch\n",
    "import torch.nn as nn\n",
    "import torch.nn.functional as F\n",
    "\n",
    "class XMLCNN(nn.Module):\n",
    "    def __init__(self, vocab_size, embed_dim, num_labels, num_filters, filter_sizes):\n",
    "        super(XMLCNN, self).__init__()\n",
    "        self.embedding = nn.Embedding(vocab_size, embed_dim)\n",
    "        self.convs = nn.ModuleList([\n",
    "            nn.Conv2d(1, num_filters, (fs, embed_dim)) for fs in filter_sizes\n",
    "        ])\n",
    "        self.fc = nn.Linear(num_filters * len(filter_sizes), num_labels)\n",
    "\n",
    "    def forward(self, input_ids):\n",
    "        x = self.embedding(input_ids)  # [batch_size, sequence_length, embed_dim]\n",
    "        x = x.unsqueeze(1)  # Add channel dimension [batch_size, 1, sequence_length, embed_dim]\n",
    "        x = [F.relu(conv(x)).squeeze(3) for conv in self.convs]  # Apply convolution and ReLU\n",
    "        x = [F.max_pool1d(line, line.size(2)).squeeze(2) for line in x]  # Max pooling over the time dimension\n",
    "        x = torch.cat(x, 1)  # Concatenate along the filter dimension\n",
    "        x = self.fc(x)\n",
    "        return x\n",
    "\n",
    "# Initialize the XML-CNN model\n",
    "vocab_size = tokenizer.vocab_size\n",
    "embed_dim = 128\n",
    "num_labels = y_train.shape[1]\n",
    "num_filters = 100\n",
    "filter_sizes = [3, 4, 5]\n",
    "\n",
    "model = XMLCNN(vocab_size, embed_dim, num_labels, num_filters, filter_sizes)\n"
   ]
  },
  {
   "cell_type": "code",
   "execution_count": 8,
   "id": "896368b0-28b2-44b6-851e-87c2998f906e",
   "metadata": {
    "tags": []
   },
   "outputs": [
    {
     "name": "stdout",
     "output_type": "stream",
     "text": [
      "Epoch 1, Loss: 0.30114207804203036\n",
      "Epoch 2, Loss: 0.2138398540019989\n",
      "Epoch 3, Loss: 0.17487518471479416\n",
      "Epoch 4, Loss: 0.15713647240400314\n",
      "Epoch 5, Loss: 0.1514855129122734\n",
      "Epoch 6, Loss: 0.14139523145556449\n",
      "Epoch 7, Loss: 0.13353335729241372\n",
      "Epoch 8, Loss: 0.13098827615380287\n",
      "Epoch 9, Loss: 0.13804612645506859\n",
      "Epoch 10, Loss: 0.12756854364275932\n"
     ]
    }
   ],
   "source": [
    "import torch.optim as optim\n",
    "\n",
    "# Define loss function and optimizer\n",
    "criterion = nn.BCEWithLogitsLoss()\n",
    "optimizer = optim.Adam(model.parameters(), lr=0.001)\n",
    "\n",
    "# Training loop\n",
    "num_epochs = 10\n",
    "for epoch in range(num_epochs):\n",
    "    model.train()\n",
    "    total_loss = 0\n",
    "    for batch in train_loader:\n",
    "        optimizer.zero_grad()\n",
    "        outputs = model(batch['input_ids'])\n",
    "        loss = criterion(outputs, batch['labels'])\n",
    "        loss.backward()\n",
    "        optimizer.step()\n",
    "        total_loss += loss.item()\n",
    "    print(f'Epoch {epoch + 1}, Loss: {total_loss / len(train_loader)}')\n"
   ]
  },
  {
   "cell_type": "code",
   "execution_count": 9,
   "id": "5749c694-b0c0-446c-b3ba-8c078701694a",
   "metadata": {
    "tags": []
   },
   "outputs": [
    {
     "name": "stdout",
     "output_type": "stream",
     "text": [
      "Accuracy: 0.5885885885885885, Precision: 0.745141588006663, Recall: 0.6953367875647668, F1 Score: 0.719378182792817\n"
     ]
    }
   ],
   "source": [
    "from sklearn.metrics import accuracy_score, precision_score, recall_score, f1_score\n",
    "\n",
    "def evaluate_model(model, data_loader):\n",
    "    model.eval()\n",
    "    true_labels = []\n",
    "    predictions = []\n",
    "\n",
    "    with torch.no_grad():\n",
    "        for batch in data_loader:\n",
    "            outputs = model(batch['input_ids'])\n",
    "            predicted_labels = torch.sigmoid(outputs) > 0.5\n",
    "            true_labels.append(batch['labels'].cpu())\n",
    "            predictions.append(predicted_labels.cpu())\n",
    "\n",
    "    true_labels = torch.cat(true_labels, dim=0).numpy()\n",
    "    predictions = torch.cat(predictions, dim=0).numpy()\n",
    "\n",
    "    accuracy = accuracy_score(true_labels, predictions)\n",
    "    precision = precision_score(true_labels, predictions, average='micro')\n",
    "    recall = recall_score(true_labels, predictions, average='micro')\n",
    "    f1 = f1_score(true_labels, predictions, average='micro')\n",
    "\n",
    "    print(f\"Accuracy: {accuracy}, Precision: {precision}, Recall: {recall}, F1 Score: {f1}\")\n",
    "\n",
    "# Evaluate the model\n",
    "evaluate_model(model, test_loader)\n"
   ]
  },
  {
   "cell_type": "code",
   "execution_count": 10,
   "id": "6f445687-92db-424c-90d5-2677e8a7d9f0",
   "metadata": {
    "tags": []
   },
   "outputs": [
    {
     "name": "stdout",
     "output_type": "stream",
     "text": [
      "Accuracy: 0.5885885885885885\n",
      "Precision: 0.745141588006663\n",
      "Recall: 0.6953367875647668\n",
      "F1 Score: 0.719378182792817\n",
      "Mean Squared Error: 0.07970108836889267\n",
      "Test Error Rate: 0.41141141141141147\n",
      "Confusion Matrix:\n",
      "[[  3   2   0   0   0   0   0   1   0   0]\n",
      " [  3  13   0   1   8   3   0   0   3   1]\n",
      " [  6   1  32   1   6  17   0   0   1   1]\n",
      " [  1   5   0  20   6   1   0   0   5   5]\n",
      " [ 16   2   3   5 383  82   0   0  17   0]\n",
      " [  9   3   0   5  52 195   3   1   9   0]\n",
      " [ 15   0   0   1   9   1  41   0   1   0]\n",
      " [  0   0   0   0   0   0   0   0   0   0]\n",
      " [  0   0   0   0   0   0   0   0   0   0]\n",
      " [  0   0   0   0   0   0   0   0   0   0]]\n"
     ]
    }
   ],
   "source": [
    "from sklearn.metrics import accuracy_score, precision_score, recall_score, f1_score, confusion_matrix, mean_squared_error\n",
    "def evaluate_model(model, data_loader):\n",
    "    model.eval()\n",
    "    true_labels = []\n",
    "    predictions = []\n",
    "    outputs_list = []\n",
    "\n",
    "    with torch.no_grad():\n",
    "        for batch in data_loader:\n",
    "            inputs = batch['input_ids']\n",
    "            labels = batch['labels']\n",
    "            outputs = model(inputs)\n",
    "            predicted_labels = torch.sigmoid(outputs) > 0.5\n",
    "            true_labels.append(labels.cpu())\n",
    "            predictions.append(predicted_labels.cpu())\n",
    "            outputs_list.append(torch.sigmoid(outputs).cpu())\n",
    "\n",
    "    # Concatenate all the results\n",
    "    true_labels = torch.cat(true_labels, dim=0).numpy()\n",
    "    predictions = torch.cat(predictions, dim=0).numpy()\n",
    "    outputs_list = torch.cat(outputs_list, dim=0).numpy()\n",
    "\n",
    "    # Calculate metrics\n",
    "    accuracy = accuracy_score(true_labels, predictions)\n",
    "    precision = precision_score(true_labels, predictions, average='micro')\n",
    "    recall = recall_score(true_labels, predictions, average='micro')\n",
    "    f1 = f1_score(true_labels, predictions, average='micro')\n",
    "    mse = mean_squared_error(true_labels, outputs_list)\n",
    "    test_error_rate = 1 - accuracy\n",
    "    conf_matrix = confusion_matrix(true_labels.argmax(axis=1), predictions.argmax(axis=1))\n",
    "\n",
    "    print(f\"Accuracy: {accuracy}\")\n",
    "    print(f\"Precision: {precision}\")\n",
    "    print(f\"Recall: {recall}\")\n",
    "    print(f\"F1 Score: {f1}\")\n",
    "    print(f\"Mean Squared Error: {mse}\")\n",
    "    print(f\"Test Error Rate: {test_error_rate}\")\n",
    "    print(\"Confusion Matrix:\")\n",
    "    print(conf_matrix)\n",
    "\n",
    "# Call the evaluation function\n",
    "evaluate_model(model, test_loader)\n"
   ]
  },
  {
   "cell_type": "code",
   "execution_count": 11,
   "id": "95ea95fc-dc62-461e-9bd2-9c69dd4c0ff3",
   "metadata": {
    "tags": []
   },
   "outputs": [
    {
     "data": {
      "image/png": "[encoded data removed]",
      "text/plain": [
       "<Figure size 1000x700 with 1 Axes>"
      ]
     },
     "metadata": {},
     "output_type": "display_data"
    }
   ],
   "source": [
    "import matplotlib.pyplot as plt\n",
    "import seaborn as sns\n",
    "import torch\n",
    "from sklearn.metrics import confusion_matrix\n",
    "import numpy as np\n",
    "\n",
    "def get_predictions_and_true_labels(model, data_loader):\n",
    "    model.eval()\n",
    "    all_predictions = []\n",
    "    all_true_labels = []\n",
    "    \n",
    "    with torch.no_grad():\n",
    "        for batch in data_loader:\n",
    "            inputs, true_labels = batch['input_ids'], batch['labels']\n",
    "            logits = model(inputs)\n",
    "            predictions = torch.sigmoid(logits) > 0.5\n",
    "            all_predictions.extend(predictions.cpu().numpy())\n",
    "            all_true_labels.extend(true_labels.cpu().numpy())\n",
    "    \n",
    "    return np.array(all_true_labels), np.array(all_predictions)\n",
    "\n",
    "def plot_confusion_matrix(true_labels, predictions, class_names):\n",
    "    # Flatten the one-hot encoded labels to a single label per example\n",
    "    true_labels = np.argmax(true_labels, axis=1)\n",
    "    predictions = np.argmax(predictions, axis=1)\n",
    "    \n",
    "    # Calculate the confusion matrix\n",
    "    cm = confusion_matrix(true_labels, predictions)\n",
    "    \n",
    "    # Plot the confusion matrix\n",
    "    plt.figure(figsize=(10, 7))\n",
    "    sns.heatmap(cm, annot=True, fmt='d', cmap='Blues', xticklabels=class_names, yticklabels=class_names, cbar=False)\n",
    "    plt.xlabel('Predicted')\n",
    "    plt.ylabel('Actual')\n",
    "    plt.title('Confusion Matrix')\n",
    "    plt.show()\n",
    "\n",
    "true_labels, predictions = get_predictions_and_true_labels(model, test_loader)\n",
    "\n",
    "\n",
    "class_names = mlb.classes_  # mlb is your MultiLabelBinarizer\n",
    "\n",
    "plot_confusion_matrix(true_labels, predictions, class_names)\n"
   ]
  },
  {
   "cell_type": "code",
   "execution_count": 12,
   "id": "0ab96084-cde0-4252-8e54-f7be83ebab24",
   "metadata": {
    "tags": []
   },
   "outputs": [
    {
     "name": "stdout",
     "output_type": "stream",
     "text": [
      "Predicted labels for 'level_0' and 'level_1': ['INFORMATION EXCHANGE', 'REQUESTED']\n",
      "Probabilities for each class: tensor([1.7776e-03, 1.4441e-02, 3.5507e-04, 5.5614e-04, 9.6065e-01, 7.7907e-03,\n",
      "        5.6822e-04, 9.9552e-04, 9.9349e-01, 8.5216e-03])\n"
     ]
    }
   ],
   "source": [
    "def predict_text(model, tokenizer, text, class_names, max_len=512, threshold=0.5):\n",
    "    model.eval()  # Ensure the model is in evaluation mode\n",
    "    \n",
    "    # Prepare the text input for the model\n",
    "    with torch.no_grad():\n",
    "        inputs = tokenizer.encode_plus(\n",
    "            text,\n",
    "            add_special_tokens=True,\n",
    "            max_length=max_len,\n",
    "            padding='max_length',\n",
    "            truncation=True,\n",
    "            return_tensors='pt'\n",
    "        )\n",
    "        \n",
    "        input_ids = inputs['input_ids']\n",
    "        \n",
    "        # Forward pass to get logits\n",
    "        outputs = model(input_ids)\n",
    "        \n",
    "        # Convert logits to probabilities using sigmoid function\n",
    "        probabilities = torch.sigmoid(outputs).squeeze(0)\n",
    "        \n",
    "        # Apply threshold to determine labels presence\n",
    "        predictions = (probabilities > threshold).int()\n",
    "        \n",
    "        # Map predictions to class names\n",
    "        predicted_labels = [class_names[i] for i, pred in enumerate(predictions) if pred == 1]\n",
    "\n",
    "    return predicted_labels, probabilities\n",
    "\n",
    "# Example usage:\n",
    "text = \"Can we set up a meeting to review these results?\"\n",
    "class_names = mlb.classes_ \n",
    "predicted_labels, probabilities = predict_text(model, tokenizer, text, class_names)\n",
    "print(f\"Predicted labels for 'level_0' and 'level_1': {predicted_labels}\")\n",
    "print(f\"Probabilities for each class: {probabilities}\")\n"
   ]
  },
  {
   "cell_type": "code",
   "execution_count": 13,
   "id": "22a01a3a-b123-499d-b0b5-ea59b1c07bb0",
   "metadata": {
    "tags": []
   },
   "outputs": [],
   "source": [
    "torch.save(model.state_dict(), 'path_to_saved_model.pth')\n"
   ]
  },
  {
   "cell_type": "code",
   "execution_count": 14,
   "id": "f0aab6eb-278a-479c-87ac-35b6dca05328",
   "metadata": {
    "tags": []
   },
   "outputs": [
    {
     "data": {
      "text/plain": [
       "XMLCNN(\n",
       "  (embedding): Embedding(30522, 128)\n",
       "  (convs): ModuleList(\n",
       "    (0): Conv2d(1, 100, kernel_size=(3, 128), stride=(1, 1))\n",
       "    (1): Conv2d(1, 100, kernel_size=(4, 128), stride=(1, 1))\n",
       "    (2): Conv2d(1, 100, kernel_size=(5, 128), stride=(1, 1))\n",
       "  )\n",
       "  (fc): Linear(in_features=300, out_features=10, bias=True)\n",
       ")"
      ]
     },
     "execution_count": 14,
     "metadata": {},
     "output_type": "execute_result"
    }
   ],
   "source": [
    "model = XMLCNN(vocab_size, embed_dim, num_labels, num_filters, filter_sizes)\n",
    "model.load_state_dict(torch.load('path_to_saved_model.pth'))\n",
    "model.eval()\n"
   ]
  },
  {
   "cell_type": "code",
   "execution_count": 15,
   "id": "c3a66816-83f4-4691-a621-0850ee0fc12b",
   "metadata": {
    "tags": []
   },
   "outputs": [
    {
     "name": "stdout",
     "output_type": "stream",
     "text": [
      "Predicted Labels: []\n",
      "Probabilities: tensor([0.0058, 0.0189, 0.0080, 0.1354, 0.0549, 0.2644, 0.0023, 0.0234, 0.3758,\n",
      "        0.3450])\n"
     ]
    }
   ],
   "source": [
    "new_text = \"Congratulations on your recent project success!\"\n",
    "predicted_labels, probabilities = predict_text(model, tokenizer, new_text, class_names)\n",
    "print(f\"Predicted Labels: {predicted_labels}\")\n",
    "print(f\"Probabilities: {probabilities}\")\n"
   ]
  },
  {
   "cell_type": "code",
   "execution_count": 16,
   "id": "51243afa-23d2-40bf-86ba-386aa3267e58",
   "metadata": {
    "tags": []
   },
   "outputs": [
    {
     "name": "stdout",
     "output_type": "stream",
     "text": [
      "Predicted Labels: ['MODIFICATION']\n",
      "Probabilities: tensor([2.3297e-04, 1.6089e-01, 1.6134e-01, 4.5476e-02, 4.3764e-02, 6.9017e-01,\n",
      "        2.7298e-04, 1.8364e-02, 4.3487e-01, 3.2408e-01])\n"
     ]
    }
   ],
   "source": [
    "new_text = \"This has been discussed in the Executive Summary via a table and will likely be covered in great depth later in this report.\"\n",
    "predicted_labels, probabilities = predict_text(model, tokenizer, new_text, class_names)\n",
    "print(f\"Predicted Labels: {predicted_labels}\")\n",
    "print(f\"Probabilities: {probabilities}\")"
   ]
  },
  {
   "cell_type": "markdown",
   "id": "7363ea6c-41e5-4f38-bb62-a294fed51b9a",
   "metadata": {},
   "source": [
    "Bert"
   ]
  },
  {
   "cell_type": "code",
   "execution_count": 17,
   "id": "bd9b6a46-1013-4faf-86c7-f21e5b36944c",
   "metadata": {
    "tags": []
   },
   "outputs": [],
   "source": [
    "import pandas as pd\n",
    "from sklearn.model_selection import train_test_split\n",
    "from sklearn.preprocessing import MultiLabelBinarizer\n",
    "\n",
    "# Load dataset\n",
    "df = pd.read_csv('labeled_comments_cleaned.csv')\n",
    "\n",
    "# Ensure all data in 'level_0' and 'level_1' are strings, and handle NaNs\n",
    "df['level_0'] = df['level_0'].fillna('Unknown').astype(str)\n",
    "df['level_1'] = df['level_1'].fillna('Unknown').astype(str)\n",
    "\n",
    "# Combine two label columns into a list of labels per row\n",
    "df['combined_labels'] = df.apply(lambda row: [row['level_0'], row['level_1']], axis=1)\n",
    "\n",
    "# Initialize MultiLabelBinarizer\n",
    "mlb = MultiLabelBinarizer()\n",
    "y = mlb.fit_transform(df['combined_labels'].values.tolist())\n",
    "\n",
    "# Selecting the feature variable\n",
    "X = df['comment_full_text']\n",
    "\n",
    "# Split the dataset into training and testing sets\n",
    "X_train, X_test, y_train, y_test = train_test_split(X, y, test_size=0.2, random_state=42)\n"
   ]
  },
  {
   "cell_type": "code",
   "execution_count": 18,
   "id": "f0c73d9b-0d9f-44f0-bde8-7d38cf3dfa07",
   "metadata": {
    "tags": []
   },
   "outputs": [
    {
     "name": "stderr",
     "output_type": "stream",
     "text": [
      "Some weights of BertForSequenceClassification were not initialized from the model checkpoint at bert-base-uncased and are newly initialized: ['classifier.bias', 'classifier.weight']\n",
      "You should probably TRAIN this model on a down-stream task to be able to use it for predictions and inference.\n"
     ]
    },
    {
     "data": {
      "text/plain": [
       "BertForSequenceClassification(\n",
       "  (bert): BertModel(\n",
       "    (embeddings): BertEmbeddings(\n",
       "      (word_embeddings): Embedding(30522, 768, padding_idx=0)\n",
       "      (position_embeddings): Embedding(512, 768)\n",
       "      (token_type_embeddings): Embedding(2, 768)\n",
       "      (LayerNorm): LayerNorm((768,), eps=1e-12, elementwise_affine=True)\n",
       "      (dropout): Dropout(p=0.1, inplace=False)\n",
       "    )\n",
       "    (encoder): BertEncoder(\n",
       "      (layer): ModuleList(\n",
       "        (0-11): 12 x BertLayer(\n",
       "          (attention): BertAttention(\n",
       "            (self): BertSdpaSelfAttention(\n",
       "              (query): Linear(in_features=768, out_features=768, bias=True)\n",
       "              (key): Linear(in_features=768, out_features=768, bias=True)\n",
       "              (value): Linear(in_features=768, out_features=768, bias=True)\n",
       "              (dropout): Dropout(p=0.1, inplace=False)\n",
       "            )\n",
       "            (output): BertSelfOutput(\n",
       "              (dense): Linear(in_features=768, out_features=768, bias=True)\n",
       "              (LayerNorm): LayerNorm((768,), eps=1e-12, elementwise_affine=True)\n",
       "              (dropout): Dropout(p=0.1, inplace=False)\n",
       "            )\n",
       "          )\n",
       "          (intermediate): BertIntermediate(\n",
       "            (dense): Linear(in_features=768, out_features=3072, bias=True)\n",
       "            (intermediate_act_fn): GELUActivation()\n",
       "          )\n",
       "          (output): BertOutput(\n",
       "            (dense): Linear(in_features=3072, out_features=768, bias=True)\n",
       "            (LayerNorm): LayerNorm((768,), eps=1e-12, elementwise_affine=True)\n",
       "            (dropout): Dropout(p=0.1, inplace=False)\n",
       "          )\n",
       "        )\n",
       "      )\n",
       "    )\n",
       "    (pooler): BertPooler(\n",
       "      (dense): Linear(in_features=768, out_features=768, bias=True)\n",
       "      (activation): Tanh()\n",
       "    )\n",
       "  )\n",
       "  (dropout): Dropout(p=0.1, inplace=False)\n",
       "  (classifier): Linear(in_features=768, out_features=11, bias=True)\n",
       ")"
      ]
     },
     "execution_count": 18,
     "metadata": {},
     "output_type": "execute_result"
    }
   ],
   "source": [
    "from transformers import BertForSequenceClassification, AdamW\n",
    "\n",
    "# Load the BERT model, specifying the number of output labels\n",
    "model = BertForSequenceClassification.from_pretrained(\n",
    "    'bert-base-uncased',\n",
    "    num_labels=y_train.shape[1],  # Number of output labels in the last layer for multi-label classification\n",
    "    output_attentions=False,      # Whether the model returns attentions weights.\n",
    "    output_hidden_states=False,   # Whether the model returns all hidden-states.\n",
    ")\n",
    "\n",
    "# Move model to GPU if available\n",
    "device = torch.device('cuda' if torch.cuda.is_available() else 'cpu')\n",
    "model.to(device)\n"
   ]
  },
  {
   "cell_type": "code",
   "execution_count": 19,
   "id": "266507ed-d455-411c-a9e3-1f33d6734cfa",
   "metadata": {
    "tags": []
   },
   "outputs": [],
   "source": [
    "from torch.utils.data import DataLoader\n",
    "\n",
    "train_dataset = TextDataset(X_train, y_train, tokenizer)\n",
    "test_dataset = TextDataset(X_test, y_test, tokenizer)\n",
    "\n",
    "train_loader = DataLoader(train_dataset, batch_size=16, shuffle=True)\n",
    "test_loader = DataLoader(test_dataset, batch_size=16)\n"
   ]
  },
  {
   "cell_type": "code",
   "execution_count": 20,
   "id": "2625b12e-0aa3-4948-8307-d02ff786dd6a",
   "metadata": {
    "tags": []
   },
   "outputs": [
    {
     "name": "stdout",
     "output_type": "stream",
     "text": [
      "Average training loss: 0.34\n",
      "Average training loss: 0.21\n",
      "Average training loss: 0.17\n",
      "Average training loss: 0.14\n",
      "Average training loss: 0.13\n",
      "Average training loss: 0.12\n",
      "Average training loss: 0.12\n",
      "Average training loss: 0.11\n",
      "Average training loss: 0.11\n",
      "Average training loss: 0.10\n"
     ]
    }
   ],
   "source": [
    "from torch.optim import AdamW\n",
    "from torch.nn import BCEWithLogitsLoss\n",
    "\n",
    "optimizer = AdamW(model.parameters(), lr=2e-5, eps=1e-8)\n",
    "criterion = BCEWithLogitsLoss()\n",
    "\n",
    "# Training loop\n",
    "model.train()\n",
    "for epoch in range(10):  # Set number of epochs\n",
    "    total_loss = 0\n",
    "    for batch in train_loader:\n",
    "        batch_input_ids = batch['input_ids'].to(device)\n",
    "        batch_attention_mask = batch['attention_mask'].to(device)\n",
    "        batch_labels = batch['labels'].to(device)\n",
    "\n",
    "        model.zero_grad()        \n",
    "        outputs = model(batch_input_ids, token_type_ids=None, attention_mask=batch_attention_mask)\n",
    "        \n",
    "        loss = criterion(outputs.logits, batch_labels)\n",
    "        loss.backward()\n",
    "        optimizer.step()\n",
    "        \n",
    "        total_loss += loss.item()\n",
    "\n",
    "    avg_train_loss = total_loss / len(train_loader)\n",
    "    print(f\"Average training loss: {avg_train_loss:.2f}\")\n"
   ]
  },
  {
   "cell_type": "code",
   "execution_count": 21,
   "id": "6a897047-b1da-4e10-9cd3-968505ae3289",
   "metadata": {
    "tags": []
   },
   "outputs": [
    {
     "data": {
      "text/plain": [
       "('./model_save/tokenizer_config.json',\n",
       " './model_save/special_tokens_map.json',\n",
       " './model_save/vocab.txt',\n",
       " './model_save/added_tokens.json')"
      ]
     },
     "execution_count": 21,
     "metadata": {},
     "output_type": "execute_result"
    }
   ],
   "source": [
    "# Save the model weights\n",
    "model.save_pretrained('./model_save')\n",
    "\n",
    "# Save the tokenizer\n",
    "tokenizer.save_pretrained('./model_save')\n"
   ]
  },
  {
   "cell_type": "code",
   "execution_count": 22,
   "id": "0e807a5a-0a50-4bde-80cd-ce28f8ffe002",
   "metadata": {
    "tags": []
   },
   "outputs": [
    {
     "data": {
      "text/plain": [
       "BertForSequenceClassification(\n",
       "  (bert): BertModel(\n",
       "    (embeddings): BertEmbeddings(\n",
       "      (word_embeddings): Embedding(30522, 768, padding_idx=0)\n",
       "      (position_embeddings): Embedding(512, 768)\n",
       "      (token_type_embeddings): Embedding(2, 768)\n",
       "      (LayerNorm): LayerNorm((768,), eps=1e-12, elementwise_affine=True)\n",
       "      (dropout): Dropout(p=0.1, inplace=False)\n",
       "    )\n",
       "    (encoder): BertEncoder(\n",
       "      (layer): ModuleList(\n",
       "        (0-11): 12 x BertLayer(\n",
       "          (attention): BertAttention(\n",
       "            (self): BertSdpaSelfAttention(\n",
       "              (query): Linear(in_features=768, out_features=768, bias=True)\n",
       "              (key): Linear(in_features=768, out_features=768, bias=True)\n",
       "              (value): Linear(in_features=768, out_features=768, bias=True)\n",
       "              (dropout): Dropout(p=0.1, inplace=False)\n",
       "            )\n",
       "            (output): BertSelfOutput(\n",
       "              (dense): Linear(in_features=768, out_features=768, bias=True)\n",
       "              (LayerNorm): LayerNorm((768,), eps=1e-12, elementwise_affine=True)\n",
       "              (dropout): Dropout(p=0.1, inplace=False)\n",
       "            )\n",
       "          )\n",
       "          (intermediate): BertIntermediate(\n",
       "            (dense): Linear(in_features=768, out_features=3072, bias=True)\n",
       "            (intermediate_act_fn): GELUActivation()\n",
       "          )\n",
       "          (output): BertOutput(\n",
       "            (dense): Linear(in_features=3072, out_features=768, bias=True)\n",
       "            (LayerNorm): LayerNorm((768,), eps=1e-12, elementwise_affine=True)\n",
       "            (dropout): Dropout(p=0.1, inplace=False)\n",
       "          )\n",
       "        )\n",
       "      )\n",
       "    )\n",
       "    (pooler): BertPooler(\n",
       "      (dense): Linear(in_features=768, out_features=768, bias=True)\n",
       "      (activation): Tanh()\n",
       "    )\n",
       "  )\n",
       "  (dropout): Dropout(p=0.1, inplace=False)\n",
       "  (classifier): Linear(in_features=768, out_features=11, bias=True)\n",
       ")"
      ]
     },
     "execution_count": 22,
     "metadata": {},
     "output_type": "execute_result"
    }
   ],
   "source": [
    "from transformers import BertForSequenceClassification, BertTokenizer\n",
    "\n",
    "# Load the model\n",
    "model = BertForSequenceClassification.from_pretrained('./model_save')\n",
    "\n",
    "# Load the tokenizer\n",
    "tokenizer = BertTokenizer.from_pretrained('./model_save')\n",
    "\n",
    "# Ensure you move the model to the correct device\n",
    "device = torch.device('cuda' if torch.cuda.is_available() else 'cpu')\n",
    "model.to(device)\n"
   ]
  },
  {
   "cell_type": "code",
   "execution_count": 23,
   "id": "4a8f3a57-6862-40ff-a3d0-970b2ca97401",
   "metadata": {
    "tags": []
   },
   "outputs": [
    {
     "name": "stdout",
     "output_type": "stream",
     "text": [
      "Loss: 0.2248\n",
      "Accuracy: 0.6897\n",
      "Precision: 0.7797\n",
      "Recall: 0.7548\n",
      "F1 Score: 0.7670\n",
      "Mean Squared Error: 0.0618\n",
      "Test Error Rate: 0.3103\n",
      "Confusion Matrix:\n",
      " [[  1   3   0   1   1   0   0   0   0]\n",
      " [  4  14   0   0   6   3   1   0   4]\n",
      " [  0   2  51   1   4   7   0   0   0]\n",
      " [  4   6   0  25   2   1   0   1   4]\n",
      " [  1   3   3   0 392 102   0   2   5]\n",
      " [  1   3   5   1  48 207   1   7   4]\n",
      " [  1   0   1   0  12   3  51   0   0]\n",
      " [  0   0   0   0   0   0   0   0   0]\n",
      " [  0   0   0   0   0   0   0   0   0]]\n"
     ]
    }
   ],
   "source": [
    "def evaluate_model(model, data_loader, criterion, device):\n",
    "    model.eval()  # Set the model to evaluation mode\n",
    "    predictions, true_labels, probabilities = [], [], []\n",
    "\n",
    "    total_loss = 0\n",
    "    with torch.no_grad():\n",
    "        for batch in data_loader:\n",
    "            input_ids = batch['input_ids'].to(device)\n",
    "            attention_mask = batch['attention_mask'].to(device)\n",
    "            labels = batch['labels'].to(device)\n",
    "\n",
    "            outputs = model(input_ids, token_type_ids=None, attention_mask=attention_mask)\n",
    "            loss = criterion(outputs.logits, labels)\n",
    "            total_loss += loss.item()\n",
    "\n",
    "            logits = outputs.logits\n",
    "            sigmoid_outputs = torch.sigmoid(logits)\n",
    "            probabilities.append(sigmoid_outputs.cpu().numpy())\n",
    "            pred_bools = (sigmoid_outputs > 0.5).cpu().numpy()\n",
    "            predictions.append(pred_bools)\n",
    "            true_labels.append(labels.cpu().numpy())\n",
    "\n",
    "    # Flatten the predictions and true labels lists\n",
    "    predictions = np.vstack(predictions)\n",
    "    true_labels = np.vstack(true_labels)\n",
    "    probabilities = np.vstack(probabilities)\n",
    "\n",
    "    # Calculate Metrics\n",
    "    accuracy = accuracy_score(true_labels, predictions)\n",
    "    precision = precision_score(true_labels, predictions, average='micro')\n",
    "    recall = recall_score(true_labels, predictions, average='micro')\n",
    "    f1 = f1_score(true_labels, predictions, average='micro')\n",
    "    mse = mean_squared_error(true_labels, probabilities)\n",
    "    test_error_rate = 1 - accuracy\n",
    "    conf_matrix = confusion_matrix(true_labels.argmax(axis=1), predictions.argmax(axis=1))\n",
    "\n",
    "    print(f\"Loss: {total_loss / len(data_loader):.4f}\")\n",
    "    print(f\"Accuracy: {accuracy:.4f}\")\n",
    "    print(f\"Precision: {precision:.4f}\")\n",
    "    print(f\"Recall: {recall:.4f}\")\n",
    "    print(f\"F1 Score: {f1:.4f}\")\n",
    "    print(f\"Mean Squared Error: {mse:.4f}\")\n",
    "    print(f\"Test Error Rate: {test_error_rate:.4f}\")\n",
    "    print(\"Confusion Matrix:\\n\", conf_matrix)\n",
    "\n",
    "# Criterion for loss computation\n",
    "criterion = torch.nn.BCEWithLogitsLoss()\n",
    "\n",
    "# Evaluate the model\n",
    "evaluate_model(model, test_loader, criterion, device)\n"
   ]
  },
  {
   "cell_type": "code",
   "execution_count": 24,
   "id": "a2d3614a-1e39-46aa-9cf0-f10232bb84dc",
   "metadata": {
    "tags": []
   },
   "outputs": [
    {
     "data": {
      "image/png": "[encoded data removed]",
      "text/plain": [
       "<Figure size 1000x800 with 2 Axes>"
      ]
     },
     "metadata": {},
     "output_type": "display_data"
    }
   ],
   "source": [
    "import numpy as np\n",
    "import matplotlib.pyplot as plt\n",
    "import seaborn as sns\n",
    "from sklearn.metrics import confusion_matrix\n",
    "\n",
    "# Compute the confusion matrix\n",
    "cm = confusion_matrix(true_labels.argmax(axis=1), predictions.argmax(axis=1))\n",
    "\n",
    "# Define the class names for your model's classes\n",
    "class_names = mlb.classes_\n",
    "\n",
    "# Plotting the confusion matrix\n",
    "plt.figure(figsize=(10, 8))\n",
    "sns.heatmap(cm, annot=True, fmt='d', cmap='Blues', xticklabels=class_names, yticklabels=class_names)\n",
    "\n",
    "# Adding labels and title\n",
    "plt.ylabel('Actual')\n",
    "plt.xlabel('Predicted')\n",
    "plt.title('Confusion Matrix')\n",
    "\n",
    "# Show the plot\n",
    "plt.show()\n"
   ]
  },
  {
   "cell_type": "code",
   "execution_count": 25,
   "id": "bb48e698-f798-4ed7-9afc-941255ef437f",
   "metadata": {
    "tags": []
   },
   "outputs": [
    {
     "name": "stdout",
     "output_type": "stream",
     "text": [
      "tensor([0.0023, 0.0077, 0.0762, 0.0059, 0.6459, 0.3140, 0.0013, 0.8604, 0.0426,\n",
      "        0.0092, 0.0010], device='cuda:0')\n"
     ]
    }
   ],
   "source": [
    "def predict(text):\n",
    "    model.eval()  # Put the model in evaluation mode\n",
    "    inputs = tokenizer(text, return_tensors=\"pt\", max_length=512, padding='max_length', truncation=True)\n",
    "\n",
    "    # Move tensors to the right device\n",
    "    inputs = {k: v.to(device) for k, v in inputs.items()}\n",
    "\n",
    "    with torch.no_grad():\n",
    "        outputs = model(**inputs)\n",
    "        probabilities = torch.sigmoid(outputs.logits).squeeze()\n",
    "\n",
    "    return probabilities\n",
    "\n",
    "# Example use\n",
    "text = \"This has been discussed in the Executive Summary via a table and will likely be covered in great depth later in this report.\"\n",
    "probabilities = predict(text)\n",
    "print(probabilities)\n"
   ]
  },
  {
   "cell_type": "code",
   "execution_count": 26,
   "id": "9202c3be-69b8-4705-b3d0-78bacd8180f9",
   "metadata": {
    "tags": []
   },
   "outputs": [
    {
     "data": {
      "text/plain": [
       "('bert_tokenizer/tokenizer_config.json',\n",
       " 'bert_tokenizer/special_tokens_map.json',\n",
       " 'bert_tokenizer/vocab.txt',\n",
       " 'bert_tokenizer/added_tokens.json')"
      ]
     },
     "execution_count": 26,
     "metadata": {},
     "output_type": "execute_result"
    }
   ],
   "source": [
    "from transformers import BertTokenizer, BertForSequenceClassification\n",
    "\n",
    "model_path = \"bert_model\"\n",
    "model.save_pretrained(model_path)\n",
    "\n",
    "tokenizer_path = \"bert_tokenizer\"\n",
    "tokenizer.save_pretrained(tokenizer_path)\n"
   ]
  },
  {
   "cell_type": "code",
   "execution_count": 27,
   "id": "a70c0d9e-f5da-4044-a809-40929e65a9cc",
   "metadata": {
    "tags": []
   },
   "outputs": [
    {
     "data": {
      "text/plain": [
       "BertForSequenceClassification(\n",
       "  (bert): BertModel(\n",
       "    (embeddings): BertEmbeddings(\n",
       "      (word_embeddings): Embedding(30522, 768, padding_idx=0)\n",
       "      (position_embeddings): Embedding(512, 768)\n",
       "      (token_type_embeddings): Embedding(2, 768)\n",
       "      (LayerNorm): LayerNorm((768,), eps=1e-12, elementwise_affine=True)\n",
       "      (dropout): Dropout(p=0.1, inplace=False)\n",
       "    )\n",
       "    (encoder): BertEncoder(\n",
       "      (layer): ModuleList(\n",
       "        (0-11): 12 x BertLayer(\n",
       "          (attention): BertAttention(\n",
       "            (self): BertSdpaSelfAttention(\n",
       "              (query): Linear(in_features=768, out_features=768, bias=True)\n",
       "              (key): Linear(in_features=768, out_features=768, bias=True)\n",
       "              (value): Linear(in_features=768, out_features=768, bias=True)\n",
       "              (dropout): Dropout(p=0.1, inplace=False)\n",
       "            )\n",
       "            (output): BertSelfOutput(\n",
       "              (dense): Linear(in_features=768, out_features=768, bias=True)\n",
       "              (LayerNorm): LayerNorm((768,), eps=1e-12, elementwise_affine=True)\n",
       "              (dropout): Dropout(p=0.1, inplace=False)\n",
       "            )\n",
       "          )\n",
       "          (intermediate): BertIntermediate(\n",
       "            (dense): Linear(in_features=768, out_features=3072, bias=True)\n",
       "            (intermediate_act_fn): GELUActivation()\n",
       "          )\n",
       "          (output): BertOutput(\n",
       "            (dense): Linear(in_features=3072, out_features=768, bias=True)\n",
       "            (LayerNorm): LayerNorm((768,), eps=1e-12, elementwise_affine=True)\n",
       "            (dropout): Dropout(p=0.1, inplace=False)\n",
       "          )\n",
       "        )\n",
       "      )\n",
       "    )\n",
       "    (pooler): BertPooler(\n",
       "      (dense): Linear(in_features=768, out_features=768, bias=True)\n",
       "      (activation): Tanh()\n",
       "    )\n",
       "  )\n",
       "  (dropout): Dropout(p=0.1, inplace=False)\n",
       "  (classifier): Linear(in_features=768, out_features=11, bias=True)\n",
       ")"
      ]
     },
     "execution_count": 27,
     "metadata": {},
     "output_type": "execute_result"
    }
   ],
   "source": [
    "# Load the model and tokenizer\n",
    "model = BertForSequenceClassification.from_pretrained(model_path)\n",
    "tokenizer = BertTokenizer.from_pretrained(tokenizer_path)\n",
    "\n",
    "# Move model to appropriate device\n",
    "device = torch.device('cuda' if torch.cuda.is_available() else 'cpu')\n",
    "model.to(device)\n",
    "model.eval()  # Set the model to evaluation mode\n"
   ]
  },
  {
   "cell_type": "code",
   "execution_count": 28,
   "id": "dd1c41c2-ddb9-4af7-8d9e-fec1d2720519",
   "metadata": {
    "tags": []
   },
   "outputs": [
    {
     "name": "stdout",
     "output_type": "stream",
     "text": [
      "Predicted Labels: ['EXECUTION', 'MODIFICATION']\n"
     ]
    }
   ],
   "source": [
    "def predict_text(text, model, tokenizer, class_names, max_len=512):\n",
    "    model.eval()  # Ensure model is in eval mode for inference\n",
    "\n",
    "    # Prepare the text input for the model\n",
    "    encoded_input = tokenizer.encode_plus(\n",
    "        text,\n",
    "        add_special_tokens=True,\n",
    "        max_length=max_len,\n",
    "        padding='max_length',\n",
    "        truncation=True,\n",
    "        return_tensors='pt'\n",
    "    )\n",
    "    input_ids = encoded_input['input_ids'].to(device)\n",
    "    attention_mask = encoded_input['attention_mask'].to(device)\n",
    "\n",
    "    # Get predictions\n",
    "    with torch.no_grad():\n",
    "        outputs = model(input_ids, attention_mask=attention_mask)\n",
    "        probs = torch.sigmoid(outputs.logits).squeeze()\n",
    "\n",
    "    # Convert probabilities to binary predictions\n",
    "    predictions = (probs > 0.5).cpu().numpy()\n",
    "    predicted_labels = [class_names[i] for i, pred in enumerate(predictions) if pred]\n",
    "\n",
    "    return predicted_labels, probs.cpu().numpy()\n",
    "\n",
    "# Example usage\n",
    "text = \"Changed from 6 grades per nine weeks to 10\"\n",
    "class_names = mlb.classes_  # Your class names from MultiLabelBinarizer\n",
    "predicted_labels, probabilities = predict_text(text, model, tokenizer, class_names)\n",
    "print(\"Predicted Labels:\", predicted_labels)\n"
   ]
  },
  {
   "cell_type": "markdown",
   "id": "0ec804a7-64e1-4593-a7e9-b373ab5a4b2c",
   "metadata": {},
   "source": [
    "BART"
   ]
  },
  {
   "cell_type": "code",
   "execution_count": 29,
   "id": "e4cfa8d6-2afc-4a3c-b6ae-71b3a1d22e21",
   "metadata": {
    "tags": []
   },
   "outputs": [],
   "source": [
    "import pandas as pd\n",
    "from sklearn.model_selection import train_test_split\n",
    "from sklearn.preprocessing import MultiLabelBinarizer\n",
    "from torch.utils.data import DataLoader, Dataset\n",
    "import torch\n",
    "from transformers import BartTokenizer, BartForSequenceClassification, AdamW\n",
    "\n",
    "# Load the datasetAC\n",
    "df = pd.read_csv('labeled_comments_cleaned.csv')\n",
    "\n",
    "# Handle missing values and ensure all data are strings\n",
    "df.fillna('Unknown', inplace=True)\n",
    "df['level_0'] = df['level_0'].astype(str)\n",
    "df['level_1'] = df['level_1'].astype(str)\n",
    "\n",
    "# Combine the label columns into a list of labels per row\n",
    "df['combined_labels'] = df[['level_0', 'level_1']].apply(lambda x: list(x), axis=1)\n",
    "\n",
    "# Initialize MultiLabelBinarizer\n",
    "mlb = MultiLabelBinarizer()\n",
    "labels = mlb.fit_transform(df['combined_labels'])\n",
    "\n",
    "# Split the dataset\n",
    "X_train, X_test, y_train, y_test = train_test_split(df['comment_full_text'], labels, test_size=0.2, random_state=42)\n",
    "\n",
    "# Define the dataset class\n",
    "class TextDataset(Dataset):\n",
    "    def __init__(self, texts, labels, tokenizer, max_len=512):\n",
    "        self.texts = texts\n",
    "        self.labels = labels\n",
    "        self.tokenizer = tokenizer\n",
    "        self.max_len = max_len\n",
    "\n",
    "    def __len__(self):\n",
    "        return len(self.texts)\n",
    "\n",
    "    def __getitem__(self, idx):\n",
    "        text = self.texts.iloc[idx]\n",
    "        label = self.labels[idx]\n",
    "        encoding = self.tokenizer.encode_plus(\n",
    "            text,\n",
    "            add_special_tokens=True,\n",
    "            max_length=self.max_len,\n",
    "            padding='max_length',\n",
    "            truncation=True,\n",
    "            return_tensors='pt'\n",
    "        )\n",
    "        return {\n",
    "            'input_ids': encoding['input_ids'].flatten(),\n",
    "            'attention_mask': encoding['attention_mask'].flatten(),\n",
    "            'labels': torch.FloatTensor(label)\n",
    "        }\n",
    "\n",
    "# Load the tokenizer\n",
    "tokenizer = BartTokenizer.from_pretrained('facebook/bart-base')\n",
    "\n",
    "# Create DataLoaders\n",
    "train_dataset = TextDataset(X_train, y_train, tokenizer)\n",
    "test_dataset = TextDataset(X_test, y_test, tokenizer)\n",
    "train_loader = DataLoader(train_dataset, batch_size=8, shuffle=True)\n",
    "test_loader = DataLoader(test_dataset, batch_size=8)\n"
   ]
  },
  {
   "cell_type": "code",
   "execution_count": 30,
   "id": "10afdcee-516b-4d5e-8bbb-b55ac796c874",
   "metadata": {
    "tags": []
   },
   "outputs": [
    {
     "name": "stderr",
     "output_type": "stream",
     "text": [
      "Some weights of BartForSequenceClassification were not initialized from the model checkpoint at facebook/bart-base and are newly initialized: ['classification_head.dense.bias', 'classification_head.dense.weight', 'classification_head.out_proj.bias', 'classification_head.out_proj.weight']\n",
      "You should probably TRAIN this model on a down-stream task to be able to use it for predictions and inference.\n",
      "/home/spati/.local/lib/python3.11/site-packages/transformers/optimization.py:588: FutureWarning: This implementation of AdamW is deprecated and will be removed in a future version. Use the PyTorch implementation torch.optim.AdamW instead, or set `no_deprecation_warning=True` to disable this warning\n",
      "  warnings.warn(\n"
     ]
    },
    {
     "name": "stdout",
     "output_type": "stream",
     "text": [
      "Epoch 1, Loss: 0.25728267477545325\n",
      "Epoch 2, Loss: 0.1943675659537196\n",
      "Epoch 3, Loss: 0.1639520483789499\n",
      "Epoch 4, Loss: 0.14840196877464146\n",
      "Epoch 5, Loss: 0.13744817569269566\n",
      "Epoch 6, Loss: 0.13059574374014546\n",
      "Epoch 7, Loss: 0.1263214381419137\n",
      "Epoch 8, Loss: 0.11845145445085599\n",
      "Epoch 9, Loss: 0.1142450406818925\n",
      "Epoch 10, Loss: 0.10986273400186895\n"
     ]
    }
   ],
   "source": [
    "# Initialize the BART model\n",
    "device = torch.device(\"cuda\" if torch.cuda.is_available() else \"cpu\")\n",
    "model = BartForSequenceClassification.from_pretrained('facebook/bart-base', num_labels=labels.shape[1])\n",
    "model.to(device)\n",
    "\n",
    "# Set up the optimizer\n",
    "optimizer = AdamW(model.parameters(), lr=5e-5)\n",
    "\n",
    "# Train the model\n",
    "model.train()\n",
    "for epoch in range(10):  # Number of epochs\n",
    "    total_loss = 0\n",
    "    for batch in train_loader:\n",
    "        batch = {k: v.to(device) for k, v in batch.items()}\n",
    "        outputs = model(**batch)\n",
    "        loss = outputs.loss\n",
    "        loss.backward()\n",
    "        optimizer.step()\n",
    "        optimizer.zero_grad()\n",
    "        total_loss += loss.item()\n",
    "    print(f'Epoch {epoch+1}, Loss: {total_loss / len(train_loader)}')\n"
   ]
  },
  {
   "cell_type": "code",
   "execution_count": 31,
   "id": "a7897bad-1d9d-4fc7-8578-238fc408f080",
   "metadata": {
    "tags": []
   },
   "outputs": [
    {
     "name": "stderr",
     "output_type": "stream",
     "text": [
      "Some non-default generation parameters are set in the model config. These should go into a GenerationConfig file (https://huggingface.co/docs/transformers/generation_strategies#save-a-custom-decoding-strategy-with-your-model) instead. This warning will be raised to an exception in v4.41.\n",
      "Non-default generation parameters: {'early_stopping': True, 'num_beams': 4, 'no_repeat_ngram_size': 3, 'forced_bos_token_id': 0, 'forced_eos_token_id': 2}\n"
     ]
    },
    {
     "data": {
      "text/plain": [
       "('path_to_save_bart_tokenizer/tokenizer_config.json',\n",
       " 'path_to_save_bart_tokenizer/special_tokens_map.json',\n",
       " 'path_to_save_bart_tokenizer/vocab.json',\n",
       " 'path_to_save_bart_tokenizer/merges.txt',\n",
       " 'path_to_save_bart_tokenizer/added_tokens.json')"
      ]
     },
     "execution_count": 31,
     "metadata": {},
     "output_type": "execute_result"
    }
   ],
   "source": [
    "model.save_pretrained('path_to_save_bart_model')\n",
    "tokenizer.save_pretrained('path_to_save_bart_tokenizer')"
   ]
  },
  {
   "cell_type": "code",
   "execution_count": 32,
   "id": "d39b3626-da1b-4817-909c-c295c132bd14",
   "metadata": {
    "tags": []
   },
   "outputs": [
    {
     "name": "stderr",
     "output_type": "stream",
     "text": [
      "You passed along `num_labels=3` with an incompatible id to label map: {'0': 'LABEL_0', '1': 'LABEL_1', '2': 'LABEL_2', '3': 'LABEL_3', '4': 'LABEL_4', '5': 'LABEL_5', '6': 'LABEL_6', '7': 'LABEL_7', '8': 'LABEL_8', '9': 'LABEL_9', '10': 'LABEL_10'}. The number of labels wil be overwritten to 11.\n"
     ]
    },
    {
     "name": "stdout",
     "output_type": "stream",
     "text": [
      "Predicted Labels: ['MODIFICATION', 'REQUESTED']\n"
     ]
    }
   ],
   "source": [
    "def predict_text(text, model, tokenizer, class_names, device):\n",
    "    model.eval()\n",
    "    inputs = tokenizer.encode_plus(text, return_tensors=\"pt\", max_length=512, padding='max_length', truncation=True)\n",
    "    inputs = {key: value.to(device) for key, value in inputs.items()}\n",
    "    with torch.no_grad():\n",
    "        outputs = model(**inputs)\n",
    "        predictions = torch.sigmoid(outputs.logits).squeeze()\n",
    "    predicted_labels = [class_names[i] for i, pred in enumerate(predictions) if pred > 0.5]\n",
    "    return predicted_labels\n",
    "\n",
    "# Load model and tokenizer\n",
    "model = BartForSequenceClassification.from_pretrained('path_to_save_bart_model').to(device)\n",
    "tokenizer = BartTokenizer.from_pretrained('path_to_save_bart_tokenizer')\n",
    "\n",
    "# Example usage\n",
    "text = \"Texts in table cells can be adjusted to fit the page\"\n",
    "predicted_labels = predict_text(text, model, tokenizer, mlb.classes_, device)\n",
    "print(\"Predicted Labels:\", predicted_labels)"
   ]
  },
  {
   "cell_type": "code",
   "execution_count": 33,
   "id": "a5c1b663-f138-48a1-8358-21374562cb78",
   "metadata": {
    "tags": []
   },
   "outputs": [
    {
     "name": "stdout",
     "output_type": "stream",
     "text": [
      "Loss: 0.2568\n",
      "Accuracy: 0.6777\n",
      "Precision: 0.7578\n",
      "Recall: 0.7392\n",
      "F1 Score: 0.7484\n",
      "Mean Squared Error: 0.0694\n",
      "Test Error Rate: 0.3223\n"
     ]
    },
    {
     "data": {
      "image/png": "[encoded data removed]",
      "text/plain": [
       "<Figure size 1000x700 with 2 Axes>"
      ]
     },
     "metadata": {},
     "output_type": "display_data"
    }
   ],
   "source": [
    "def evaluate_model(model, data_loader, criterion, device):\n",
    "    model.eval()\n",
    "    predictions, true_labels, probabilities = [], [], []\n",
    "    total_loss = 0\n",
    "\n",
    "    with torch.no_grad():\n",
    "        for batch in data_loader:\n",
    "            input_ids = batch['input_ids'].to(device)\n",
    "            attention_mask = batch['attention_mask'].to(device)\n",
    "            labels = batch['labels'].to(device)\n",
    "            \n",
    "            outputs = model(input_ids, attention_mask=attention_mask)\n",
    "            loss = criterion(outputs.logits, labels)\n",
    "            total_loss += loss.item()\n",
    "\n",
    "            sigmoid_outputs = torch.sigmoid(outputs.logits)\n",
    "            probabilities.append(sigmoid_outputs.cpu().numpy())\n",
    "            pred_bools = (sigmoid_outputs > 0.5).cpu().numpy()\n",
    "            predictions.append(pred_bools)\n",
    "            true_labels.append(batch['labels'].cpu().numpy())\n",
    "\n",
    "    # Flatten the predictions and true labels lists\n",
    "    predictions = np.vstack(predictions)\n",
    "    true_labels = np.vstack(true_labels)\n",
    "    probabilities = np.vstack(probabilities)\n",
    "\n",
    "    # Calculate Metrics\n",
    "    accuracy = accuracy_score(true_labels, predictions)\n",
    "    precision = precision_score(true_labels, predictions, average='micro')\n",
    "    recall = recall_score(true_labels, predictions, average='micro')\n",
    "    f1 = f1_score(true_labels, predictions, average='micro')\n",
    "    mse = mean_squared_error(true_labels, probabilities)\n",
    "    test_error_rate = 1 - accuracy\n",
    "    cm = confusion_matrix(true_labels.argmax(axis=1), predictions.argmax(axis=1))\n",
    "\n",
    "    # Print Metrics\n",
    "    print(f'Loss: {total_loss / len(data_loader):.4f}')\n",
    "    print(f'Accuracy: {accuracy:.4f}')\n",
    "    print(f'Precision: {precision:.4f}')\n",
    "    print(f'Recall: {recall:.4f}')\n",
    "    print(f'F1 Score: {f1:.4f}')\n",
    "    print(f'Mean Squared Error: {mse:.4f}')\n",
    "    print(f'Test Error Rate: {test_error_rate:.4f}')\n",
    "\n",
    "    # Plot Confusion Matrix\n",
    "    plt.figure(figsize=(10, 7))\n",
    "    sns.heatmap(cm, annot=True, fmt='g', cmap='Blues')\n",
    "    plt.xlabel('Predicted labels')\n",
    "    plt.ylabel('True labels')\n",
    "    plt.title('Confusion Matrix')\n",
    "    plt.show()\n",
    "\n",
    "# Criterion for calculating the loss\n",
    "criterion = torch.nn.BCEWithLogitsLoss()\n",
    "\n",
    "# Example call to evaluate the model\n",
    "evaluate_model(model, test_loader, criterion, device)\n"
   ]
  },
  {
   "cell_type": "markdown",
   "id": "0fffd648-541b-4b64-905f-37591c0fff47",
   "metadata": {},
   "source": [
    "Roberta"
   ]
  },
  {
   "cell_type": "code",
   "execution_count": 34,
   "id": "23d5e90d-0866-4267-854e-059fb978b21a",
   "metadata": {
    "tags": []
   },
   "outputs": [
    {
     "data": {
      "application/vnd.jupyter.widget-view+json": {
       "model_id": "b99f1bcc6aa64d56a27e5e6c787fb57e",
       "version_major": 2,
       "version_minor": 0
      },
      "text/plain": [
       "tokenizer_config.json:   0%|          | 0.00/25.0 [00:00<?, ?B/s]"
      ]
     },
     "metadata": {},
     "output_type": "display_data"
    },
    {
     "data": {
      "application/vnd.jupyter.widget-view+json": {
       "model_id": "e43406cdb89b41c29576883446e70d53",
       "version_major": 2,
       "version_minor": 0
      },
      "text/plain": [
       "vocab.json:   0%|          | 0.00/899k [00:00<?, ?B/s]"
      ]
     },
     "metadata": {},
     "output_type": "display_data"
    },
    {
     "data": {
      "application/vnd.jupyter.widget-view+json": {
       "model_id": "5e6fece8082948bfa91715ed12ee1c8d",
       "version_major": 2,
       "version_minor": 0
      },
      "text/plain": [
       "merges.txt:   0%|          | 0.00/456k [00:00<?, ?B/s]"
      ]
     },
     "metadata": {},
     "output_type": "display_data"
    },
    {
     "data": {
      "application/vnd.jupyter.widget-view+json": {
       "model_id": "e31123ef7fde49a5a6c84f2a9eb2c272",
       "version_major": 2,
       "version_minor": 0
      },
      "text/plain": [
       "tokenizer.json:   0%|          | 0.00/1.36M [00:00<?, ?B/s]"
      ]
     },
     "metadata": {},
     "output_type": "display_data"
    },
    {
     "name": "stderr",
     "output_type": "stream",
     "text": [
      "/home/spati/.local/lib/python3.11/site-packages/huggingface_hub/file_download.py:1132: FutureWarning: `resume_download` is deprecated and will be removed in version 1.0.0. Downloads always resume when possible. If you want to force a new download, use `force_download=True`.\n",
      "  warnings.warn(\n"
     ]
    },
    {
     "data": {
      "application/vnd.jupyter.widget-view+json": {
       "model_id": "3367b9a9aefe44308260635eebf7bb78",
       "version_major": 2,
       "version_minor": 0
      },
      "text/plain": [
       "config.json:   0%|          | 0.00/481 [00:00<?, ?B/s]"
      ]
     },
     "metadata": {},
     "output_type": "display_data"
    }
   ],
   "source": [
    "import pandas as pd\n",
    "from sklearn.model_selection import train_test_split\n",
    "from sklearn.preprocessing import MultiLabelBinarizer\n",
    "import torch\n",
    "from torch.utils.data import DataLoader, Dataset\n",
    "from transformers import RobertaTokenizer, RobertaForSequenceClassification, AdamW\n",
    "import numpy as np\n",
    "\n",
    "# Load the dataset\n",
    "df = pd.read_csv('labeled_comments_cleaned.csv')\n",
    "\n",
    "# Fill NaN values with 'Unknown' and ensure all data are strings\n",
    "df['level_0'] = df['level_0'].fillna('Unknown').astype(str)\n",
    "df['level_1'] = df['level_1'].fillna('Unknown').astype(str)\n",
    "\n",
    "# Combine the label columns into lists\n",
    "df['combined_labels'] = df[['level_0', 'level_1']].apply(lambda x: [x['level_0'], x['level_1']], axis=1)\n",
    "\n",
    "# Initialize MultiLabelBinarizer\n",
    "mlb = MultiLabelBinarizer()\n",
    "labels = mlb.fit_transform(df['combined_labels'])\n",
    "\n",
    "# Split the dataset\n",
    "X_train, X_test, y_train, y_test = train_test_split(df['comment_full_text'], labels, test_size=0.2, random_state=42)\n",
    "\n",
    "# Define the Dataset class\n",
    "class TextDataset(Dataset):\n",
    "    def __init__(self, texts, labels, tokenizer, max_len=512):\n",
    "        self.texts = texts\n",
    "        self.labels = labels\n",
    "        self.tokenizer = tokenizer\n",
    "        self.max_len = max_len\n",
    "\n",
    "    def __len__(self):\n",
    "        return len(self.texts)\n",
    "\n",
    "    def __getitem__(self, idx):\n",
    "        text = self.texts.iloc[idx]\n",
    "        label = self.labels[idx]\n",
    "        encoding = self.tokenizer.encode_plus(\n",
    "            text,\n",
    "            add_special_tokens=True,\n",
    "            max_length=self.max_len,\n",
    "            padding='max_length',\n",
    "            truncation=True,\n",
    "            return_tensors='pt'\n",
    "        )\n",
    "        return {\n",
    "            'input_ids': encoding['input_ids'].flatten(),\n",
    "            'attention_mask': encoding['attention_mask'].flatten(),\n",
    "            'labels': torch.FloatTensor(label)\n",
    "        }\n",
    "\n",
    "# Load the tokenizer\n",
    "tokenizer = RobertaTokenizer.from_pretrained('roberta-base')\n",
    "\n",
    "# Create DataLoaders\n",
    "train_dataset = TextDataset(X_train, y_train, tokenizer)\n",
    "test_dataset = TextDataset(X_test, y_test, tokenizer)\n",
    "train_loader = DataLoader(train_dataset, batch_size=8, shuffle=True)\n",
    "test_loader = DataLoader(test_dataset, batch_size=8)\n"
   ]
  },
  {
   "cell_type": "code",
   "execution_count": 35,
   "id": "89d10167-70d5-42c6-9bb3-383b29024b32",
   "metadata": {
    "tags": []
   },
   "outputs": [
    {
     "data": {
      "application/vnd.jupyter.widget-view+json": {
       "model_id": "ecc8c97d0db742acb4e686550c907f51",
       "version_major": 2,
       "version_minor": 0
      },
      "text/plain": [
       "model.safetensors:   0%|          | 0.00/499M [00:00<?, ?B/s]"
      ]
     },
     "metadata": {},
     "output_type": "display_data"
    },
    {
     "name": "stderr",
     "output_type": "stream",
     "text": [
      "Some weights of RobertaForSequenceClassification were not initialized from the model checkpoint at roberta-base and are newly initialized: ['classifier.dense.bias', 'classifier.dense.weight', 'classifier.out_proj.bias', 'classifier.out_proj.weight']\n",
      "You should probably TRAIN this model on a down-stream task to be able to use it for predictions and inference.\n",
      "/home/spati/.local/lib/python3.11/site-packages/transformers/optimization.py:588: FutureWarning: This implementation of AdamW is deprecated and will be removed in a future version. Use the PyTorch implementation torch.optim.AdamW instead, or set `no_deprecation_warning=True` to disable this warning\n",
      "  warnings.warn(\n"
     ]
    },
    {
     "name": "stdout",
     "output_type": "stream",
     "text": [
      "Epoch 1, Loss: 0.319690465927124\n",
      "Epoch 2, Loss: 0.1531899869441986\n",
      "Epoch 3, Loss: 0.4093390107154846\n",
      "Epoch 4, Loss: 0.25796109437942505\n",
      "Epoch 5, Loss: 0.0629008337855339\n",
      "Epoch 6, Loss: 0.2283535897731781\n",
      "Epoch 7, Loss: 0.13253238797187805\n",
      "Epoch 8, Loss: 0.18672466278076172\n",
      "Epoch 9, Loss: 0.07903402298688889\n",
      "Epoch 10, Loss: 0.07440690696239471\n"
     ]
    }
   ],
   "source": [
    "# Load RoBERTa model configured for sequence classification\n",
    "model = RobertaForSequenceClassification.from_pretrained('roberta-base', num_labels=y_train.shape[1])\n",
    "model.cuda()  # Move model to GPU if available\n",
    "\n",
    "# Set up optimizer\n",
    "optimizer = AdamW(model.parameters(), lr=5e-5)\n",
    "\n",
    "# Training loop\n",
    "model.train()\n",
    "for epoch in range(10):  # Number of training epochs\n",
    "    for batch in train_loader:\n",
    "        batch = {k: v.cuda() for k, v in batch.items()}  # Move batch to GPU\n",
    "        outputs = model(**batch)\n",
    "        loss = outputs.loss\n",
    "        loss.backward()\n",
    "        optimizer.step()\n",
    "        optimizer.zero_grad()\n",
    "    print(f'Epoch {epoch + 1}, Loss: {loss.item()}')\n"
   ]
  },
  {
   "cell_type": "code",
   "execution_count": 36,
   "id": "f1fb67c2-07b9-4d2d-9908-84f3f574426e",
   "metadata": {
    "tags": []
   },
   "outputs": [
    {
     "data": {
      "text/plain": [
       "('roberta_tokenizer/tokenizer_config.json',\n",
       " 'roberta_tokenizer/special_tokens_map.json',\n",
       " 'roberta_tokenizer/vocab.json',\n",
       " 'roberta_tokenizer/merges.txt',\n",
       " 'roberta_tokenizer/added_tokens.json')"
      ]
     },
     "execution_count": 36,
     "metadata": {},
     "output_type": "execute_result"
    }
   ],
   "source": [
    "model.save_pretrained('roberta_model')\n",
    "tokenizer.save_pretrained('roberta_tokenizer')"
   ]
  },
  {
   "cell_type": "code",
   "execution_count": 37,
   "id": "e4c66626-10c7-4ccb-832b-4f5b41920bee",
   "metadata": {
    "tags": []
   },
   "outputs": [
    {
     "name": "stdout",
     "output_type": "stream",
     "text": [
      "Accuracy: 0.6677\n",
      "Precision: 0.7694\n",
      "Recall: 0.7312\n",
      "F1 Score: 0.7498\n",
      "Mean Squared Error: 0.0646\n",
      "Test Error Rate: 0.3323\n"
     ]
    },
    {
     "data": {
      "image/png": "[encoded data removed]",
      "text/plain": [
       "<Figure size 1000x700 with 2 Axes>"
      ]
     },
     "metadata": {},
     "output_type": "display_data"
    }
   ],
   "source": [
    "def evaluate_model(model, data_loader, device):\n",
    "    model.eval()  # Set the model to evaluation mode\n",
    "    predictions, true_labels, probabilities = [], [], []\n",
    "\n",
    "    with torch.no_grad():\n",
    "        for batch in data_loader:\n",
    "            input_ids = batch['input_ids'].to(device)\n",
    "            attention_mask = batch['attention_mask'].to(device)\n",
    "            labels = batch['labels'].to(device)\n",
    "\n",
    "            outputs = model(input_ids, attention_mask=attention_mask)\n",
    "            logits = outputs.logits\n",
    "            probs = torch.sigmoid(logits)\n",
    "            predictions.extend((probs > 0.5).cpu().numpy())\n",
    "            true_labels.extend(labels.cpu().numpy())\n",
    "            probabilities.extend(probs.cpu().numpy())  # Ensure this is collecting data\n",
    "\n",
    "    # Convert lists to numpy arrays for metric calculation\n",
    "    predictions = np.vstack(predictions)\n",
    "    true_labels = np.vstack(true_labels)\n",
    "    probabilities = np.vstack(probabilities)  # Ensure this has the correct shape\n",
    "\n",
    "    # Calculate metrics\n",
    "    accuracy = accuracy_score(true_labels, predictions)\n",
    "    precision = precision_score(true_labels, predictions, average='micro')\n",
    "    recall = recall_score(true_labels, predictions, average='micro')\n",
    "    f1 = f1_score(true_labels, predictions, average='micro')\n",
    "    mse = mean_squared_error(true_labels, probabilities)\n",
    "    test_error_rate = 1 - accuracy\n",
    "    conf_matrix = confusion_matrix(true_labels.argmax(axis=1), predictions.argmax(axis=1))\n",
    "\n",
    "    # Output the metrics\n",
    "    print(f'Accuracy: {accuracy:.4f}')\n",
    "    print(f'Precision: {precision:.4f}')\n",
    "    print(f'Recall: {recall:.4f}')\n",
    "    print(f'F1 Score: {f1:.4f}')\n",
    "    print(f'Mean Squared Error: {mse:.4f}')\n",
    "    print(f'Test Error Rate: {test_error_rate:.4f}')\n",
    "\n",
    "    # Plotting the confusion matrix\n",
    "    plt.figure(figsize=(10, 7))\n",
    "    sns.heatmap(conf_matrix, annot=True, fmt='d', cmap='Blues')\n",
    "    plt.xlabel('Predicted labels')\n",
    "    plt.ylabel('True labels')\n",
    "    plt.title('Confusion Matrix')\n",
    "    plt.show()\n",
    "\n",
    "# Example call to evaluate the model\n",
    "evaluate_model(model, test_loader, torch.device('cuda' if torch.cuda.is_available() else 'cpu'))\n"
   ]
  },
  {
   "cell_type": "code",
   "execution_count": 38,
   "id": "2039df9d-f8d2-4212-b5ef-b5b6e33a5ad2",
   "metadata": {
    "tags": []
   },
   "outputs": [
    {
     "name": "stdout",
     "output_type": "stream",
     "text": [
      "Predicted Labels: ['MODIFICATION', 'REQUESTED']\n"
     ]
    }
   ],
   "source": [
    "def predict_text(text, model, tokenizer, class_names):\n",
    "    model.eval()\n",
    "    inputs = tokenizer(text, return_tensors=\"pt\", padding=True, truncation=True, max_length=512)\n",
    "    inputs = {key: value.cuda() for key, value in inputs.items()}\n",
    "    with torch.no_grad():\n",
    "        outputs = model(**inputs)\n",
    "        probabilities = torch.sigmoid(outputs.logits).squeeze()\n",
    "    predictions = (probabilities > 0.5).cpu().numpy()\n",
    "    predicted_labels = [class_names[i] for i, pred in enumerate(predictions) if pred]\n",
    "    return predicted_labels\n",
    "\n",
    "# Example usage\n",
    "text = \"Texts in table cells can be adjusted to fit the page\"\n",
    "predicted_labels = predict_text(text, model, tokenizer, mlb.classes_)\n",
    "print(\"Predicted Labels:\", predicted_labels)\n"
   ]
  }
 ],
 "metadata": {
  "kernelspec": {
   "display_name": "Python 3 (ipykernel)",
   "language": "python",
   "name": "python3"
  },
  "language_info": {
   "codemirror_mode": {
    "name": "ipython",
    "version": 3
   },
   "file_extension": ".py",
   "mimetype": "text/x-python",
   "name": "python",
   "nbconvert_exporter": "python",
   "pygments_lexer": "ipython3",
   "version": "3.11.5"
  }
 },
 "nbformat": 4,
 "nbformat_minor": 5
}
